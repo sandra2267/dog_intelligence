{
 "cells": [
  {
   "cell_type": "code",
   "execution_count": 1,
   "id": "bd9e6a1b",
   "metadata": {},
   "outputs": [],
   "source": [
    "import pandas as pd \n",
    "import numpy as np\n",
    "from sklearn.model_selection import train_test_split \n",
    "from sklearn import metrics \n",
    "from sklearn.ensemble import RandomForestClassifier\n",
    "import matplotlib.pyplot as plt\n",
    "import seaborn as sns"
   ]
  },
  {
   "cell_type": "code",
   "execution_count": 2,
   "id": "df0446f7",
   "metadata": {},
   "outputs": [],
   "source": [
    "dog_data = pd.read_csv('../dog_intelligence.csv', index_col='Breed', encoding='cp1252') #encoding='cp1252'- bez tego błąd"
   ]
  },
  {
   "cell_type": "code",
   "execution_count": 3,
   "id": "02bb2457",
   "metadata": {
    "scrolled": false
   },
   "outputs": [
    {
     "data": {
      "text/html": [
       "<div>\n",
       "<style scoped>\n",
       "    .dataframe tbody tr th:only-of-type {\n",
       "        vertical-align: middle;\n",
       "    }\n",
       "\n",
       "    .dataframe tbody tr th {\n",
       "        vertical-align: top;\n",
       "    }\n",
       "\n",
       "    .dataframe thead th {\n",
       "        text-align: right;\n",
       "    }\n",
       "</style>\n",
       "<table border=\"1\" class=\"dataframe\">\n",
       "  <thead>\n",
       "    <tr style=\"text-align: right;\">\n",
       "      <th></th>\n",
       "      <th>height_low_inches</th>\n",
       "      <th>height_high_inches</th>\n",
       "      <th>weight_low_lbs</th>\n",
       "      <th>weight_high_lbs</th>\n",
       "      <th>reps_lower</th>\n",
       "      <th>reps_upper</th>\n",
       "    </tr>\n",
       "    <tr>\n",
       "      <th>Breed</th>\n",
       "      <th></th>\n",
       "      <th></th>\n",
       "      <th></th>\n",
       "      <th></th>\n",
       "      <th></th>\n",
       "      <th></th>\n",
       "    </tr>\n",
       "  </thead>\n",
       "  <tbody>\n",
       "    <tr>\n",
       "      <th>Akita</th>\n",
       "      <td>26.0</td>\n",
       "      <td>28.0</td>\n",
       "      <td>80</td>\n",
       "      <td>120</td>\n",
       "      <td>1.0</td>\n",
       "      <td>4.0</td>\n",
       "    </tr>\n",
       "    <tr>\n",
       "      <th>A0tolian Sheepdog</th>\n",
       "      <td>27.0</td>\n",
       "      <td>29.0</td>\n",
       "      <td>100</td>\n",
       "      <td>150</td>\n",
       "      <td>1.0</td>\n",
       "      <td>4.0</td>\n",
       "    </tr>\n",
       "    <tr>\n",
       "      <th>Bernese Mountain Dog</th>\n",
       "      <td>23.0</td>\n",
       "      <td>27.0</td>\n",
       "      <td>85</td>\n",
       "      <td>110</td>\n",
       "      <td>1.0</td>\n",
       "      <td>4.0</td>\n",
       "    </tr>\n",
       "    <tr>\n",
       "      <th>Bloodhound</th>\n",
       "      <td>24.0</td>\n",
       "      <td>26.0</td>\n",
       "      <td>80</td>\n",
       "      <td>120</td>\n",
       "      <td>1.0</td>\n",
       "      <td>4.0</td>\n",
       "    </tr>\n",
       "    <tr>\n",
       "      <th>Borzoi</th>\n",
       "      <td>26.0</td>\n",
       "      <td>28.0</td>\n",
       "      <td>70</td>\n",
       "      <td>100</td>\n",
       "      <td>1.0</td>\n",
       "      <td>4.0</td>\n",
       "    </tr>\n",
       "    <tr>\n",
       "      <th>...</th>\n",
       "      <td>...</td>\n",
       "      <td>...</td>\n",
       "      <td>...</td>\n",
       "      <td>...</td>\n",
       "      <td>...</td>\n",
       "      <td>...</td>\n",
       "    </tr>\n",
       "    <tr>\n",
       "      <th>Papillon</th>\n",
       "      <td>8.0</td>\n",
       "      <td>11.0</td>\n",
       "      <td>5</td>\n",
       "      <td>10</td>\n",
       "      <td>NaN</td>\n",
       "      <td>NaN</td>\n",
       "    </tr>\n",
       "    <tr>\n",
       "      <th>Pomeranian</th>\n",
       "      <td>12.0</td>\n",
       "      <td>12.0</td>\n",
       "      <td>3</td>\n",
       "      <td>7</td>\n",
       "      <td>NaN</td>\n",
       "      <td>NaN</td>\n",
       "    </tr>\n",
       "    <tr>\n",
       "      <th>Poodle Toy</th>\n",
       "      <td>10.0</td>\n",
       "      <td>10.0</td>\n",
       "      <td>10</td>\n",
       "      <td>10</td>\n",
       "      <td>NaN</td>\n",
       "      <td>NaN</td>\n",
       "    </tr>\n",
       "    <tr>\n",
       "      <th>Toy Fox Terrier</th>\n",
       "      <td>10.0</td>\n",
       "      <td>10.0</td>\n",
       "      <td>4</td>\n",
       "      <td>7</td>\n",
       "      <td>NaN</td>\n",
       "      <td>NaN</td>\n",
       "    </tr>\n",
       "    <tr>\n",
       "      <th>Yorkshire Terrier</th>\n",
       "      <td>8.0</td>\n",
       "      <td>8.0</td>\n",
       "      <td>3</td>\n",
       "      <td>7</td>\n",
       "      <td>NaN</td>\n",
       "      <td>NaN</td>\n",
       "    </tr>\n",
       "  </tbody>\n",
       "</table>\n",
       "<p>150 rows × 6 columns</p>\n",
       "</div>"
      ],
      "text/plain": [
       "                      height_low_inches  height_high_inches  weight_low_lbs  \\\n",
       "Breed                                                                         \n",
       "Akita                              26.0                28.0              80   \n",
       "A0tolian Sheepdog                  27.0                29.0             100   \n",
       "Bernese Mountain Dog               23.0                27.0              85   \n",
       "Bloodhound                         24.0                26.0              80   \n",
       "Borzoi                             26.0                28.0              70   \n",
       "...                                 ...                 ...             ...   \n",
       "Papillon                            8.0                11.0               5   \n",
       "Pomeranian                         12.0                12.0               3   \n",
       "Poodle Toy                         10.0                10.0              10   \n",
       "Toy Fox Terrier                    10.0                10.0               4   \n",
       "Yorkshire Terrier                   8.0                 8.0               3   \n",
       "\n",
       "                      weight_high_lbs  reps_lower  reps_upper  \n",
       "Breed                                                          \n",
       "Akita                             120         1.0         4.0  \n",
       "A0tolian Sheepdog                 150         1.0         4.0  \n",
       "Bernese Mountain Dog              110         1.0         4.0  \n",
       "Bloodhound                        120         1.0         4.0  \n",
       "Borzoi                            100         1.0         4.0  \n",
       "...                               ...         ...         ...  \n",
       "Papillon                           10         NaN         NaN  \n",
       "Pomeranian                          7         NaN         NaN  \n",
       "Poodle Toy                         10         NaN         NaN  \n",
       "Toy Fox Terrier                     7         NaN         NaN  \n",
       "Yorkshire Terrier                   7         NaN         NaN  \n",
       "\n",
       "[150 rows x 6 columns]"
      ]
     },
     "execution_count": 3,
     "metadata": {},
     "output_type": "execute_result"
    }
   ],
   "source": [
    "dog_data"
   ]
  },
  {
   "cell_type": "code",
   "execution_count": null,
   "id": "c15adbc6",
   "metadata": {},
   "outputs": [],
   "source": []
  },
  {
   "cell_type": "markdown",
   "id": "03894dfd",
   "metadata": {},
   "source": [
    "# Data pre-processing"
   ]
  },
  {
   "cell_type": "code",
   "execution_count": 4,
   "id": "62b71533",
   "metadata": {},
   "outputs": [
    {
     "data": {
      "text/html": [
       "<div>\n",
       "<style scoped>\n",
       "    .dataframe tbody tr th:only-of-type {\n",
       "        vertical-align: middle;\n",
       "    }\n",
       "\n",
       "    .dataframe tbody tr th {\n",
       "        vertical-align: top;\n",
       "    }\n",
       "\n",
       "    .dataframe thead th {\n",
       "        text-align: right;\n",
       "    }\n",
       "</style>\n",
       "<table border=\"1\" class=\"dataframe\">\n",
       "  <thead>\n",
       "    <tr style=\"text-align: right;\">\n",
       "      <th></th>\n",
       "      <th>height_low_inches</th>\n",
       "      <th>height_high_inches</th>\n",
       "      <th>weight_low_lbs</th>\n",
       "      <th>weight_high_lbs</th>\n",
       "      <th>reps_lower</th>\n",
       "      <th>reps_upper</th>\n",
       "    </tr>\n",
       "    <tr>\n",
       "      <th>Breed</th>\n",
       "      <th></th>\n",
       "      <th></th>\n",
       "      <th></th>\n",
       "      <th></th>\n",
       "      <th></th>\n",
       "      <th></th>\n",
       "    </tr>\n",
       "  </thead>\n",
       "  <tbody>\n",
       "    <tr>\n",
       "      <th>Coton de Tulear</th>\n",
       "      <td>0.0</td>\n",
       "      <td>0.0</td>\n",
       "      <td>0</td>\n",
       "      <td>0</td>\n",
       "      <td>41.0</td>\n",
       "      <td>80.0</td>\n",
       "    </tr>\n",
       "    <tr>\n",
       "      <th>Alaskan Malamute</th>\n",
       "      <td>0.0</td>\n",
       "      <td>0.0</td>\n",
       "      <td>0</td>\n",
       "      <td>0</td>\n",
       "      <td>5.0</td>\n",
       "      <td>15.0</td>\n",
       "    </tr>\n",
       "    <tr>\n",
       "      <th>Chihuahua</th>\n",
       "      <td>6.0</td>\n",
       "      <td>9.0</td>\n",
       "      <td>2</td>\n",
       "      <td>5</td>\n",
       "      <td>NaN</td>\n",
       "      <td>NaN</td>\n",
       "    </tr>\n",
       "    <tr>\n",
       "      <th>Maltese</th>\n",
       "      <td>8.0</td>\n",
       "      <td>10.0</td>\n",
       "      <td>4</td>\n",
       "      <td>6</td>\n",
       "      <td>NaN</td>\n",
       "      <td>NaN</td>\n",
       "    </tr>\n",
       "    <tr>\n",
       "      <th>Yorkshire Terrier</th>\n",
       "      <td>8.0</td>\n",
       "      <td>8.0</td>\n",
       "      <td>3</td>\n",
       "      <td>7</td>\n",
       "      <td>NaN</td>\n",
       "      <td>NaN</td>\n",
       "    </tr>\n",
       "    <tr>\n",
       "      <th>...</th>\n",
       "      <td>...</td>\n",
       "      <td>...</td>\n",
       "      <td>...</td>\n",
       "      <td>...</td>\n",
       "      <td>...</td>\n",
       "      <td>...</td>\n",
       "    </tr>\n",
       "    <tr>\n",
       "      <th>Neopolitan Mastiff</th>\n",
       "      <td>24.0</td>\n",
       "      <td>30.0</td>\n",
       "      <td>100</td>\n",
       "      <td>150</td>\n",
       "      <td>5.0</td>\n",
       "      <td>15.0</td>\n",
       "    </tr>\n",
       "    <tr>\n",
       "      <th>Great Dane</th>\n",
       "      <td>32.0</td>\n",
       "      <td>32.0</td>\n",
       "      <td>120</td>\n",
       "      <td>160</td>\n",
       "      <td>1.0</td>\n",
       "      <td>4.0</td>\n",
       "    </tr>\n",
       "    <tr>\n",
       "      <th>Tibetan Mastiff</th>\n",
       "      <td>24.0</td>\n",
       "      <td>26.0</td>\n",
       "      <td>140</td>\n",
       "      <td>170</td>\n",
       "      <td>16.0</td>\n",
       "      <td>25.0</td>\n",
       "    </tr>\n",
       "    <tr>\n",
       "      <th>Saint Ber0rd</th>\n",
       "      <td>25.0</td>\n",
       "      <td>28.0</td>\n",
       "      <td>110</td>\n",
       "      <td>190</td>\n",
       "      <td>5.0</td>\n",
       "      <td>15.0</td>\n",
       "    </tr>\n",
       "    <tr>\n",
       "      <th>Mastiff</th>\n",
       "      <td>27.0</td>\n",
       "      <td>30.0</td>\n",
       "      <td>175</td>\n",
       "      <td>190</td>\n",
       "      <td>5.0</td>\n",
       "      <td>15.0</td>\n",
       "    </tr>\n",
       "  </tbody>\n",
       "</table>\n",
       "<p>150 rows × 6 columns</p>\n",
       "</div>"
      ],
      "text/plain": [
       "                    height_low_inches  height_high_inches  weight_low_lbs  \\\n",
       "Breed                                                                       \n",
       "Coton de Tulear                   0.0                 0.0               0   \n",
       "Alaskan Malamute                  0.0                 0.0               0   \n",
       "Chihuahua                         6.0                 9.0               2   \n",
       "Maltese                           8.0                10.0               4   \n",
       "Yorkshire Terrier                 8.0                 8.0               3   \n",
       "...                               ...                 ...             ...   \n",
       "Neopolitan Mastiff               24.0                30.0             100   \n",
       "Great Dane                       32.0                32.0             120   \n",
       "Tibetan Mastiff                  24.0                26.0             140   \n",
       "Saint Ber0rd                     25.0                28.0             110   \n",
       "Mastiff                          27.0                30.0             175   \n",
       "\n",
       "                    weight_high_lbs  reps_lower  reps_upper  \n",
       "Breed                                                        \n",
       "Coton de Tulear                   0        41.0        80.0  \n",
       "Alaskan Malamute                  0         5.0        15.0  \n",
       "Chihuahua                         5         NaN         NaN  \n",
       "Maltese                           6         NaN         NaN  \n",
       "Yorkshire Terrier                 7         NaN         NaN  \n",
       "...                             ...         ...         ...  \n",
       "Neopolitan Mastiff              150         5.0        15.0  \n",
       "Great Dane                      160         1.0         4.0  \n",
       "Tibetan Mastiff                 170        16.0        25.0  \n",
       "Saint Ber0rd                    190         5.0        15.0  \n",
       "Mastiff                         190         5.0        15.0  \n",
       "\n",
       "[150 rows x 6 columns]"
      ]
     },
     "execution_count": 4,
     "metadata": {},
     "output_type": "execute_result"
    }
   ],
   "source": [
    "dog_data.sort_values(by='weight_high_lbs')"
   ]
  },
  {
   "cell_type": "code",
   "execution_count": 5,
   "id": "31cd927d",
   "metadata": {
    "scrolled": true
   },
   "outputs": [
    {
     "data": {
      "text/html": [
       "<div>\n",
       "<style scoped>\n",
       "    .dataframe tbody tr th:only-of-type {\n",
       "        vertical-align: middle;\n",
       "    }\n",
       "\n",
       "    .dataframe tbody tr th {\n",
       "        vertical-align: top;\n",
       "    }\n",
       "\n",
       "    .dataframe thead th {\n",
       "        text-align: right;\n",
       "    }\n",
       "</style>\n",
       "<table border=\"1\" class=\"dataframe\">\n",
       "  <thead>\n",
       "    <tr style=\"text-align: right;\">\n",
       "      <th></th>\n",
       "      <th>height_low_inches</th>\n",
       "      <th>height_high_inches</th>\n",
       "      <th>weight_low_lbs</th>\n",
       "      <th>weight_high_lbs</th>\n",
       "      <th>reps_lower</th>\n",
       "      <th>reps_upper</th>\n",
       "    </tr>\n",
       "    <tr>\n",
       "      <th>Breed</th>\n",
       "      <th></th>\n",
       "      <th></th>\n",
       "      <th></th>\n",
       "      <th></th>\n",
       "      <th></th>\n",
       "      <th></th>\n",
       "    </tr>\n",
       "  </thead>\n",
       "  <tbody>\n",
       "    <tr>\n",
       "      <th>Alaskan Malamute</th>\n",
       "      <td>0.0</td>\n",
       "      <td>0.0</td>\n",
       "      <td>0</td>\n",
       "      <td>0</td>\n",
       "      <td>5.0</td>\n",
       "      <td>15.0</td>\n",
       "    </tr>\n",
       "    <tr>\n",
       "      <th>Coton de Tulear</th>\n",
       "      <td>0.0</td>\n",
       "      <td>0.0</td>\n",
       "      <td>0</td>\n",
       "      <td>0</td>\n",
       "      <td>41.0</td>\n",
       "      <td>80.0</td>\n",
       "    </tr>\n",
       "    <tr>\n",
       "      <th>Chihuahua</th>\n",
       "      <td>6.0</td>\n",
       "      <td>9.0</td>\n",
       "      <td>2</td>\n",
       "      <td>5</td>\n",
       "      <td>NaN</td>\n",
       "      <td>NaN</td>\n",
       "    </tr>\n",
       "    <tr>\n",
       "      <th>Dachshund</th>\n",
       "      <td>7.0</td>\n",
       "      <td>10.0</td>\n",
       "      <td>16</td>\n",
       "      <td>32</td>\n",
       "      <td>41.0</td>\n",
       "      <td>80.0</td>\n",
       "    </tr>\n",
       "    <tr>\n",
       "      <th>Brussels Griffon</th>\n",
       "      <td>7.0</td>\n",
       "      <td>8.0</td>\n",
       "      <td>6</td>\n",
       "      <td>12</td>\n",
       "      <td>41.0</td>\n",
       "      <td>80.0</td>\n",
       "    </tr>\n",
       "    <tr>\n",
       "      <th>...</th>\n",
       "      <td>...</td>\n",
       "      <td>...</td>\n",
       "      <td>...</td>\n",
       "      <td>...</td>\n",
       "      <td>...</td>\n",
       "      <td>...</td>\n",
       "    </tr>\n",
       "    <tr>\n",
       "      <th>Kuvasz</th>\n",
       "      <td>28.0</td>\n",
       "      <td>30.0</td>\n",
       "      <td>70</td>\n",
       "      <td>120</td>\n",
       "      <td>5.0</td>\n",
       "      <td>15.0</td>\n",
       "    </tr>\n",
       "    <tr>\n",
       "      <th>Irish Wolfhound</th>\n",
       "      <td>28.0</td>\n",
       "      <td>35.0</td>\n",
       "      <td>90</td>\n",
       "      <td>150</td>\n",
       "      <td>1.0</td>\n",
       "      <td>4.0</td>\n",
       "    </tr>\n",
       "    <tr>\n",
       "      <th>Scottish Deerhound</th>\n",
       "      <td>28.0</td>\n",
       "      <td>32.0</td>\n",
       "      <td>75</td>\n",
       "      <td>110</td>\n",
       "      <td>16.0</td>\n",
       "      <td>25.0</td>\n",
       "    </tr>\n",
       "    <tr>\n",
       "      <th>Great Dane</th>\n",
       "      <td>32.0</td>\n",
       "      <td>32.0</td>\n",
       "      <td>120</td>\n",
       "      <td>160</td>\n",
       "      <td>1.0</td>\n",
       "      <td>4.0</td>\n",
       "    </tr>\n",
       "    <tr>\n",
       "      <th>Vizsla</th>\n",
       "      <td>48.0</td>\n",
       "      <td>66.0</td>\n",
       "      <td>22</td>\n",
       "      <td>25</td>\n",
       "      <td>26.0</td>\n",
       "      <td>40.0</td>\n",
       "    </tr>\n",
       "  </tbody>\n",
       "</table>\n",
       "<p>150 rows × 6 columns</p>\n",
       "</div>"
      ],
      "text/plain": [
       "                    height_low_inches  height_high_inches  weight_low_lbs  \\\n",
       "Breed                                                                       \n",
       "Alaskan Malamute                  0.0                 0.0               0   \n",
       "Coton de Tulear                   0.0                 0.0               0   \n",
       "Chihuahua                         6.0                 9.0               2   \n",
       "Dachshund                         7.0                10.0              16   \n",
       "Brussels Griffon                  7.0                 8.0               6   \n",
       "...                               ...                 ...             ...   \n",
       "Kuvasz                           28.0                30.0              70   \n",
       "Irish Wolfhound                  28.0                35.0              90   \n",
       "Scottish Deerhound               28.0                32.0              75   \n",
       "Great Dane                       32.0                32.0             120   \n",
       "Vizsla                           48.0                66.0              22   \n",
       "\n",
       "                    weight_high_lbs  reps_lower  reps_upper  \n",
       "Breed                                                        \n",
       "Alaskan Malamute                  0         5.0        15.0  \n",
       "Coton de Tulear                   0        41.0        80.0  \n",
       "Chihuahua                         5         NaN         NaN  \n",
       "Dachshund                        32        41.0        80.0  \n",
       "Brussels Griffon                 12        41.0        80.0  \n",
       "...                             ...         ...         ...  \n",
       "Kuvasz                          120         5.0        15.0  \n",
       "Irish Wolfhound                 150         1.0         4.0  \n",
       "Scottish Deerhound              110        16.0        25.0  \n",
       "Great Dane                      160         1.0         4.0  \n",
       "Vizsla                           25        26.0        40.0  \n",
       "\n",
       "[150 rows x 6 columns]"
      ]
     },
     "execution_count": 5,
     "metadata": {},
     "output_type": "execute_result"
    }
   ],
   "source": [
    "dog_data.sort_values(by='height_low_inches')"
   ]
  },
  {
   "cell_type": "code",
   "execution_count": 6,
   "id": "86c5a840",
   "metadata": {},
   "outputs": [
    {
     "name": "stdout",
     "output_type": "stream",
     "text": [
      "<class 'pandas.core.frame.DataFrame'>\n",
      "Index: 150 entries, Akita to Yorkshire Terrier\n",
      "Data columns (total 6 columns):\n",
      " #   Column              Non-Null Count  Dtype  \n",
      "---  ------              --------------  -----  \n",
      " 0   height_low_inches   150 non-null    float64\n",
      " 1   height_high_inches  150 non-null    float64\n",
      " 2   weight_low_lbs      150 non-null    int64  \n",
      " 3   weight_high_lbs     150 non-null    int64  \n",
      " 4   reps_lower          136 non-null    float64\n",
      " 5   reps_upper          136 non-null    float64\n",
      "dtypes: float64(4), int64(2)\n",
      "memory usage: 17.7 KB\n"
     ]
    }
   ],
   "source": [
    "dog_data.info(memory_usage='deep')"
   ]
  },
  {
   "cell_type": "code",
   "execution_count": 7,
   "id": "ecb6ec95",
   "metadata": {},
   "outputs": [
    {
     "data": {
      "text/html": [
       "<div>\n",
       "<style scoped>\n",
       "    .dataframe tbody tr th:only-of-type {\n",
       "        vertical-align: middle;\n",
       "    }\n",
       "\n",
       "    .dataframe tbody tr th {\n",
       "        vertical-align: top;\n",
       "    }\n",
       "\n",
       "    .dataframe thead th {\n",
       "        text-align: right;\n",
       "    }\n",
       "</style>\n",
       "<table border=\"1\" class=\"dataframe\">\n",
       "  <thead>\n",
       "    <tr style=\"text-align: right;\">\n",
       "      <th></th>\n",
       "      <th>height_low_inches</th>\n",
       "      <th>height_high_inches</th>\n",
       "      <th>weight_low_lbs</th>\n",
       "      <th>weight_high_lbs</th>\n",
       "      <th>reps_lower</th>\n",
       "      <th>reps_upper</th>\n",
       "    </tr>\n",
       "  </thead>\n",
       "  <tbody>\n",
       "    <tr>\n",
       "      <th>count</th>\n",
       "      <td>150.000000</td>\n",
       "      <td>150.000000</td>\n",
       "      <td>150.000000</td>\n",
       "      <td>150.000000</td>\n",
       "      <td>136.000000</td>\n",
       "      <td>136.000000</td>\n",
       "    </tr>\n",
       "    <tr>\n",
       "      <th>mean</th>\n",
       "      <td>17.720000</td>\n",
       "      <td>20.673333</td>\n",
       "      <td>42.393333</td>\n",
       "      <td>56.973333</td>\n",
       "      <td>25.588235</td>\n",
       "      <td>41.507353</td>\n",
       "    </tr>\n",
       "    <tr>\n",
       "      <th>std</th>\n",
       "      <td>6.699063</td>\n",
       "      <td>7.947180</td>\n",
       "      <td>30.908372</td>\n",
       "      <td>41.619069</td>\n",
       "      <td>20.496240</td>\n",
       "      <td>28.195875</td>\n",
       "    </tr>\n",
       "    <tr>\n",
       "      <th>min</th>\n",
       "      <td>0.000000</td>\n",
       "      <td>0.000000</td>\n",
       "      <td>0.000000</td>\n",
       "      <td>0.000000</td>\n",
       "      <td>1.000000</td>\n",
       "      <td>4.000000</td>\n",
       "    </tr>\n",
       "    <tr>\n",
       "      <th>25%</th>\n",
       "      <td>13.000000</td>\n",
       "      <td>15.000000</td>\n",
       "      <td>18.000000</td>\n",
       "      <td>22.250000</td>\n",
       "      <td>16.000000</td>\n",
       "      <td>25.000000</td>\n",
       "    </tr>\n",
       "    <tr>\n",
       "      <th>50%</th>\n",
       "      <td>18.000000</td>\n",
       "      <td>21.000000</td>\n",
       "      <td>40.000000</td>\n",
       "      <td>50.000000</td>\n",
       "      <td>26.000000</td>\n",
       "      <td>40.000000</td>\n",
       "    </tr>\n",
       "    <tr>\n",
       "      <th>75%</th>\n",
       "      <td>22.000000</td>\n",
       "      <td>26.750000</td>\n",
       "      <td>60.000000</td>\n",
       "      <td>75.000000</td>\n",
       "      <td>26.000000</td>\n",
       "      <td>40.000000</td>\n",
       "    </tr>\n",
       "    <tr>\n",
       "      <th>max</th>\n",
       "      <td>48.000000</td>\n",
       "      <td>66.000000</td>\n",
       "      <td>175.000000</td>\n",
       "      <td>190.000000</td>\n",
       "      <td>81.000000</td>\n",
       "      <td>100.000000</td>\n",
       "    </tr>\n",
       "  </tbody>\n",
       "</table>\n",
       "</div>"
      ],
      "text/plain": [
       "       height_low_inches  height_high_inches  weight_low_lbs  weight_high_lbs  \\\n",
       "count         150.000000          150.000000      150.000000       150.000000   \n",
       "mean           17.720000           20.673333       42.393333        56.973333   \n",
       "std             6.699063            7.947180       30.908372        41.619069   \n",
       "min             0.000000            0.000000        0.000000         0.000000   \n",
       "25%            13.000000           15.000000       18.000000        22.250000   \n",
       "50%            18.000000           21.000000       40.000000        50.000000   \n",
       "75%            22.000000           26.750000       60.000000        75.000000   \n",
       "max            48.000000           66.000000      175.000000       190.000000   \n",
       "\n",
       "       reps_lower  reps_upper  \n",
       "count  136.000000  136.000000  \n",
       "mean    25.588235   41.507353  \n",
       "std     20.496240   28.195875  \n",
       "min      1.000000    4.000000  \n",
       "25%     16.000000   25.000000  \n",
       "50%     26.000000   40.000000  \n",
       "75%     26.000000   40.000000  \n",
       "max     81.000000  100.000000  "
      ]
     },
     "execution_count": 7,
     "metadata": {},
     "output_type": "execute_result"
    }
   ],
   "source": [
    "dog_data.describe()"
   ]
  },
  {
   "cell_type": "code",
   "execution_count": 8,
   "id": "8784d160",
   "metadata": {},
   "outputs": [],
   "source": [
    "#reps_lower, reps_upper - no data for 14 rows "
   ]
  },
  {
   "cell_type": "code",
   "execution_count": 9,
   "id": "4af92b5f",
   "metadata": {},
   "outputs": [
    {
     "data": {
      "text/plain": [
       "26.0    42\n",
       "16.0    30\n",
       "41.0    22\n",
       "5.0     21\n",
       "81.0    11\n",
       "1.0     10\n",
       "Name: reps_lower, dtype: int64"
      ]
     },
     "execution_count": 9,
     "metadata": {},
     "output_type": "execute_result"
    }
   ],
   "source": [
    "dog_data[\"reps_lower\"].value_counts()"
   ]
  },
  {
   "cell_type": "code",
   "execution_count": 10,
   "id": "2eed8efe",
   "metadata": {},
   "outputs": [
    {
     "data": {
      "text/plain": [
       "40.0     42\n",
       "25.0     30\n",
       "80.0     22\n",
       "15.0     21\n",
       "100.0    11\n",
       "4.0      10\n",
       "Name: reps_upper, dtype: int64"
      ]
     },
     "execution_count": 10,
     "metadata": {},
     "output_type": "execute_result"
    }
   ],
   "source": [
    "dog_data[\"reps_upper\"].value_counts()# wart nullowe "
   ]
  },
  {
   "cell_type": "code",
   "execution_count": 11,
   "id": "8aab4b7a",
   "metadata": {},
   "outputs": [
    {
     "data": {
      "text/plain": [
       "6"
      ]
     },
     "execution_count": 11,
     "metadata": {},
     "output_type": "execute_result"
    }
   ],
   "source": [
    "dog_data[\"reps_lower\"].nunique()"
   ]
  },
  {
   "cell_type": "code",
   "execution_count": 12,
   "id": "7f48a261",
   "metadata": {},
   "outputs": [
    {
     "data": {
      "text/plain": [
       "6"
      ]
     },
     "execution_count": 12,
     "metadata": {},
     "output_type": "execute_result"
    }
   ],
   "source": [
    "dog_data[\"reps_upper\"].nunique()"
   ]
  },
  {
   "cell_type": "markdown",
   "id": "110e94dc",
   "metadata": {},
   "source": [
    "Creating one column out of merging reps_lower and reps_upper. It allows to distingush 6 unique values within newly created column."
   ]
  },
  {
   "cell_type": "code",
   "execution_count": 13,
   "id": "895e89e8",
   "metadata": {},
   "outputs": [],
   "source": [
    "dog_data = dog_data.astype({'reps_lower' : 'str', 'reps_upper':'str'})"
   ]
  },
  {
   "cell_type": "code",
   "execution_count": 14,
   "id": "6f618dc7",
   "metadata": {
    "scrolled": true
   },
   "outputs": [
    {
     "data": {
      "text/plain": [
       "height_low_inches     float64\n",
       "height_high_inches    float64\n",
       "weight_low_lbs          int64\n",
       "weight_high_lbs         int64\n",
       "reps_lower             object\n",
       "reps_upper             object\n",
       "dtype: object"
      ]
     },
     "execution_count": 14,
     "metadata": {},
     "output_type": "execute_result"
    }
   ],
   "source": [
    "dog_data.dtypes"
   ]
  },
  {
   "cell_type": "code",
   "execution_count": 15,
   "id": "9dd88e32",
   "metadata": {},
   "outputs": [],
   "source": [
    "dog_data[\"number_of_reps\"] = dog_data[\"reps_lower\"] + \"-\" +dog_data[\"reps_upper\"]"
   ]
  },
  {
   "cell_type": "code",
   "execution_count": 16,
   "id": "3af16f87",
   "metadata": {
    "scrolled": true
   },
   "outputs": [
    {
     "data": {
      "text/plain": [
       "array(['1.0-4.0', '5.0-15.0', '16.0-25.0', '26.0-40.0', '41.0-80.0',\n",
       "       '81.0-100.0', 'nan-nan'], dtype=object)"
      ]
     },
     "execution_count": 16,
     "metadata": {},
     "output_type": "execute_result"
    }
   ],
   "source": [
    "dog_data.number_of_reps.unique()"
   ]
  },
  {
   "cell_type": "markdown",
   "id": "13c177bd",
   "metadata": {},
   "source": [
    "Each range from \"number_of_reps\" column gets a value according to the following legend:\n",
    "\"1.0-4.0\":1, \"5.0-15.0\":2, \"16.0-25.0\":3, \"26.0-40.0\":4, \"41.0-80.0\":5, \"81.0-100.0\":6"
   ]
  },
  {
   "cell_type": "code",
   "execution_count": 17,
   "id": "e8e5b424",
   "metadata": {},
   "outputs": [],
   "source": [
    "reps_legend ={\"1.0-4.0\":1, \"5.0-15.0\":2, \"16.0-25.0\":3, \"26.0-40.0\":4, \"41.0-80.0\":5, \"81.0-100.0\":6}"
   ]
  },
  {
   "cell_type": "code",
   "execution_count": 18,
   "id": "90a03361",
   "metadata": {},
   "outputs": [],
   "source": [
    "dog_data.number_of_reps.replace(reps_legend, inplace=True)"
   ]
  },
  {
   "cell_type": "code",
   "execution_count": 19,
   "id": "7e62c55c",
   "metadata": {},
   "outputs": [
    {
     "data": {
      "text/plain": [
       "array([1, 2, 3, 4, 5, 6, 'nan-nan'], dtype=object)"
      ]
     },
     "execution_count": 19,
     "metadata": {},
     "output_type": "execute_result"
    }
   ],
   "source": [
    "dog_data.number_of_reps.unique()"
   ]
  },
  {
   "cell_type": "code",
   "execution_count": 20,
   "id": "7b247923",
   "metadata": {},
   "outputs": [
    {
     "data": {
      "text/html": [
       "<div>\n",
       "<style scoped>\n",
       "    .dataframe tbody tr th:only-of-type {\n",
       "        vertical-align: middle;\n",
       "    }\n",
       "\n",
       "    .dataframe tbody tr th {\n",
       "        vertical-align: top;\n",
       "    }\n",
       "\n",
       "    .dataframe thead th {\n",
       "        text-align: right;\n",
       "    }\n",
       "</style>\n",
       "<table border=\"1\" class=\"dataframe\">\n",
       "  <thead>\n",
       "    <tr style=\"text-align: right;\">\n",
       "      <th></th>\n",
       "      <th>height_low_inches</th>\n",
       "      <th>height_high_inches</th>\n",
       "      <th>weight_low_lbs</th>\n",
       "      <th>weight_high_lbs</th>\n",
       "      <th>reps_lower</th>\n",
       "      <th>reps_upper</th>\n",
       "      <th>number_of_reps</th>\n",
       "    </tr>\n",
       "    <tr>\n",
       "      <th>Breed</th>\n",
       "      <th></th>\n",
       "      <th></th>\n",
       "      <th></th>\n",
       "      <th></th>\n",
       "      <th></th>\n",
       "      <th></th>\n",
       "      <th></th>\n",
       "    </tr>\n",
       "  </thead>\n",
       "  <tbody>\n",
       "    <tr>\n",
       "      <th>Akita</th>\n",
       "      <td>26.0</td>\n",
       "      <td>28.0</td>\n",
       "      <td>80</td>\n",
       "      <td>120</td>\n",
       "      <td>1.0</td>\n",
       "      <td>4.0</td>\n",
       "      <td>1</td>\n",
       "    </tr>\n",
       "    <tr>\n",
       "      <th>A0tolian Sheepdog</th>\n",
       "      <td>27.0</td>\n",
       "      <td>29.0</td>\n",
       "      <td>100</td>\n",
       "      <td>150</td>\n",
       "      <td>1.0</td>\n",
       "      <td>4.0</td>\n",
       "      <td>1</td>\n",
       "    </tr>\n",
       "    <tr>\n",
       "      <th>Bernese Mountain Dog</th>\n",
       "      <td>23.0</td>\n",
       "      <td>27.0</td>\n",
       "      <td>85</td>\n",
       "      <td>110</td>\n",
       "      <td>1.0</td>\n",
       "      <td>4.0</td>\n",
       "      <td>1</td>\n",
       "    </tr>\n",
       "    <tr>\n",
       "      <th>Bloodhound</th>\n",
       "      <td>24.0</td>\n",
       "      <td>26.0</td>\n",
       "      <td>80</td>\n",
       "      <td>120</td>\n",
       "      <td>1.0</td>\n",
       "      <td>4.0</td>\n",
       "      <td>1</td>\n",
       "    </tr>\n",
       "    <tr>\n",
       "      <th>Borzoi</th>\n",
       "      <td>26.0</td>\n",
       "      <td>28.0</td>\n",
       "      <td>70</td>\n",
       "      <td>100</td>\n",
       "      <td>1.0</td>\n",
       "      <td>4.0</td>\n",
       "      <td>1</td>\n",
       "    </tr>\n",
       "  </tbody>\n",
       "</table>\n",
       "</div>"
      ],
      "text/plain": [
       "                      height_low_inches  height_high_inches  weight_low_lbs  \\\n",
       "Breed                                                                         \n",
       "Akita                              26.0                28.0              80   \n",
       "A0tolian Sheepdog                  27.0                29.0             100   \n",
       "Bernese Mountain Dog               23.0                27.0              85   \n",
       "Bloodhound                         24.0                26.0              80   \n",
       "Borzoi                             26.0                28.0              70   \n",
       "\n",
       "                      weight_high_lbs reps_lower reps_upper number_of_reps  \n",
       "Breed                                                                       \n",
       "Akita                             120        1.0        4.0              1  \n",
       "A0tolian Sheepdog                 150        1.0        4.0              1  \n",
       "Bernese Mountain Dog              110        1.0        4.0              1  \n",
       "Bloodhound                        120        1.0        4.0              1  \n",
       "Borzoi                            100        1.0        4.0              1  "
      ]
     },
     "execution_count": 20,
     "metadata": {},
     "output_type": "execute_result"
    }
   ],
   "source": [
    "dog_data.head()"
   ]
  },
  {
   "cell_type": "markdown",
   "id": "19c00b2d",
   "metadata": {},
   "source": [
    "Performing an unit change in order to make the dataset easier to read, undersatnd and work on."
   ]
  },
  {
   "cell_type": "code",
   "execution_count": 21,
   "id": "1cd3b562",
   "metadata": {},
   "outputs": [],
   "source": [
    "dog_data[\"height_low_inches\"] = dog_data[\"height_low_inches\"] * 2.54\n",
    "dog_data[\"height_high_inches\"] = dog_data[\"height_high_inches\"] * 2.54\n",
    "dog_data[\"weight_low_lbs\"] = dog_data[\"weight_low_lbs\"] * 0.454\n",
    "dog_data[\"weight_high_lbs\"] = dog_data[\"weight_high_lbs\"] * 0.454"
   ]
  },
  {
   "cell_type": "code",
   "execution_count": 22,
   "id": "69a91633",
   "metadata": {},
   "outputs": [],
   "source": [
    "del dog_data[\"reps_lower\"]\n",
    "del dog_data[\"reps_upper\"]"
   ]
  },
  {
   "cell_type": "code",
   "execution_count": 23,
   "id": "812eb44c",
   "metadata": {},
   "outputs": [],
   "source": [
    "dog_data.columns = [\"height_low_cm\", \"heigt_high_cm\", \"weight_low_kg\", \"weight_high_kg\", \"number_of_reps\"]"
   ]
  },
  {
   "cell_type": "code",
   "execution_count": 24,
   "id": "9bbe4437",
   "metadata": {},
   "outputs": [
    {
     "data": {
      "text/html": [
       "<div>\n",
       "<style scoped>\n",
       "    .dataframe tbody tr th:only-of-type {\n",
       "        vertical-align: middle;\n",
       "    }\n",
       "\n",
       "    .dataframe tbody tr th {\n",
       "        vertical-align: top;\n",
       "    }\n",
       "\n",
       "    .dataframe thead th {\n",
       "        text-align: right;\n",
       "    }\n",
       "</style>\n",
       "<table border=\"1\" class=\"dataframe\">\n",
       "  <thead>\n",
       "    <tr style=\"text-align: right;\">\n",
       "      <th></th>\n",
       "      <th>height_low_cm</th>\n",
       "      <th>heigt_high_cm</th>\n",
       "      <th>weight_low_kg</th>\n",
       "      <th>weight_high_kg</th>\n",
       "      <th>number_of_reps</th>\n",
       "    </tr>\n",
       "    <tr>\n",
       "      <th>Breed</th>\n",
       "      <th></th>\n",
       "      <th></th>\n",
       "      <th></th>\n",
       "      <th></th>\n",
       "      <th></th>\n",
       "    </tr>\n",
       "  </thead>\n",
       "  <tbody>\n",
       "    <tr>\n",
       "      <th>Akita</th>\n",
       "      <td>66.04</td>\n",
       "      <td>71.12</td>\n",
       "      <td>36.32</td>\n",
       "      <td>54.48</td>\n",
       "      <td>1</td>\n",
       "    </tr>\n",
       "    <tr>\n",
       "      <th>A0tolian Sheepdog</th>\n",
       "      <td>68.58</td>\n",
       "      <td>73.66</td>\n",
       "      <td>45.40</td>\n",
       "      <td>68.10</td>\n",
       "      <td>1</td>\n",
       "    </tr>\n",
       "    <tr>\n",
       "      <th>Bernese Mountain Dog</th>\n",
       "      <td>58.42</td>\n",
       "      <td>68.58</td>\n",
       "      <td>38.59</td>\n",
       "      <td>49.94</td>\n",
       "      <td>1</td>\n",
       "    </tr>\n",
       "    <tr>\n",
       "      <th>Bloodhound</th>\n",
       "      <td>60.96</td>\n",
       "      <td>66.04</td>\n",
       "      <td>36.32</td>\n",
       "      <td>54.48</td>\n",
       "      <td>1</td>\n",
       "    </tr>\n",
       "    <tr>\n",
       "      <th>Borzoi</th>\n",
       "      <td>66.04</td>\n",
       "      <td>71.12</td>\n",
       "      <td>31.78</td>\n",
       "      <td>45.40</td>\n",
       "      <td>1</td>\n",
       "    </tr>\n",
       "    <tr>\n",
       "      <th>Bullmastiff</th>\n",
       "      <td>63.50</td>\n",
       "      <td>68.58</td>\n",
       "      <td>45.40</td>\n",
       "      <td>59.02</td>\n",
       "      <td>1</td>\n",
       "    </tr>\n",
       "    <tr>\n",
       "      <th>Great Dane</th>\n",
       "      <td>81.28</td>\n",
       "      <td>81.28</td>\n",
       "      <td>54.48</td>\n",
       "      <td>72.64</td>\n",
       "      <td>1</td>\n",
       "    </tr>\n",
       "    <tr>\n",
       "      <th>Great Pyrenees</th>\n",
       "      <td>68.58</td>\n",
       "      <td>81.28</td>\n",
       "      <td>43.13</td>\n",
       "      <td>54.48</td>\n",
       "      <td>1</td>\n",
       "    </tr>\n",
       "    <tr>\n",
       "      <th>Great Swiss Mountain Dog</th>\n",
       "      <td>58.42</td>\n",
       "      <td>71.12</td>\n",
       "      <td>59.02</td>\n",
       "      <td>68.10</td>\n",
       "      <td>1</td>\n",
       "    </tr>\n",
       "    <tr>\n",
       "      <th>Irish Wolfhound</th>\n",
       "      <td>71.12</td>\n",
       "      <td>88.90</td>\n",
       "      <td>40.86</td>\n",
       "      <td>68.10</td>\n",
       "      <td>1</td>\n",
       "    </tr>\n",
       "  </tbody>\n",
       "</table>\n",
       "</div>"
      ],
      "text/plain": [
       "                          height_low_cm  heigt_high_cm  weight_low_kg  \\\n",
       "Breed                                                                   \n",
       "Akita                             66.04          71.12          36.32   \n",
       "A0tolian Sheepdog                 68.58          73.66          45.40   \n",
       "Bernese Mountain Dog              58.42          68.58          38.59   \n",
       "Bloodhound                        60.96          66.04          36.32   \n",
       "Borzoi                            66.04          71.12          31.78   \n",
       "Bullmastiff                       63.50          68.58          45.40   \n",
       "Great Dane                        81.28          81.28          54.48   \n",
       "Great Pyrenees                    68.58          81.28          43.13   \n",
       "Great Swiss Mountain Dog          58.42          71.12          59.02   \n",
       "Irish Wolfhound                   71.12          88.90          40.86   \n",
       "\n",
       "                          weight_high_kg number_of_reps  \n",
       "Breed                                                    \n",
       "Akita                              54.48              1  \n",
       "A0tolian Sheepdog                  68.10              1  \n",
       "Bernese Mountain Dog               49.94              1  \n",
       "Bloodhound                         54.48              1  \n",
       "Borzoi                             45.40              1  \n",
       "Bullmastiff                        59.02              1  \n",
       "Great Dane                         72.64              1  \n",
       "Great Pyrenees                     54.48              1  \n",
       "Great Swiss Mountain Dog           68.10              1  \n",
       "Irish Wolfhound                    68.10              1  "
      ]
     },
     "execution_count": 24,
     "metadata": {},
     "output_type": "execute_result"
    }
   ],
   "source": [
    "dog_data.head(10)"
   ]
  },
  {
   "cell_type": "code",
   "execution_count": 25,
   "id": "cf382414",
   "metadata": {},
   "outputs": [],
   "source": [
    "heigt_high_cm = dog_data.heigt_high_cm\n",
    "height_low_cm = dog_data.height_low_cm\n",
    "weight_high_kg = dog_data.weight_high_kg\n",
    "weight_low_kg = dog_data.weight_low_kg"
   ]
  },
  {
   "cell_type": "markdown",
   "id": "2eb5651e",
   "metadata": {},
   "source": [
    "Crating new columns by performing mathematical operafions on existing data."
   ]
  },
  {
   "cell_type": "code",
   "execution_count": 26,
   "id": "4d66e2ae",
   "metadata": {},
   "outputs": [],
   "source": [
    "dog_data.insert(loc = 2, column=\"height_diff\", value=heigt_high_cm-height_low_cm)\n",
    "dog_data.insert(loc = 5, column=\"weight_diff\", value=weight_high_kg-weight_low_kg)"
   ]
  },
  {
   "cell_type": "code",
   "execution_count": 27,
   "id": "34fd76af",
   "metadata": {},
   "outputs": [],
   "source": [
    "height_high_m = heigt_high_cm/100\n",
    "height_low_m = height_low_cm/100"
   ]
  },
  {
   "cell_type": "code",
   "execution_count": 28,
   "id": "37545927",
   "metadata": {},
   "outputs": [],
   "source": [
    "dog_data.to_csv(\"dog_data.csv\")"
   ]
  },
  {
   "cell_type": "code",
   "execution_count": 29,
   "id": "718faea9",
   "metadata": {
    "scrolled": true
   },
   "outputs": [
    {
     "data": {
      "text/html": [
       "<div>\n",
       "<style scoped>\n",
       "    .dataframe tbody tr th:only-of-type {\n",
       "        vertical-align: middle;\n",
       "    }\n",
       "\n",
       "    .dataframe tbody tr th {\n",
       "        vertical-align: top;\n",
       "    }\n",
       "\n",
       "    .dataframe thead th {\n",
       "        text-align: right;\n",
       "    }\n",
       "</style>\n",
       "<table border=\"1\" class=\"dataframe\">\n",
       "  <thead>\n",
       "    <tr style=\"text-align: right;\">\n",
       "      <th></th>\n",
       "      <th>height_low_cm</th>\n",
       "      <th>heigt_high_cm</th>\n",
       "      <th>height_diff</th>\n",
       "      <th>weight_low_kg</th>\n",
       "      <th>weight_high_kg</th>\n",
       "      <th>weight_diff</th>\n",
       "      <th>number_of_reps</th>\n",
       "    </tr>\n",
       "    <tr>\n",
       "      <th>Breed</th>\n",
       "      <th></th>\n",
       "      <th></th>\n",
       "      <th></th>\n",
       "      <th></th>\n",
       "      <th></th>\n",
       "      <th></th>\n",
       "      <th></th>\n",
       "    </tr>\n",
       "  </thead>\n",
       "  <tbody>\n",
       "    <tr>\n",
       "      <th>Coton de Tulear</th>\n",
       "      <td>0.00</td>\n",
       "      <td>0.00</td>\n",
       "      <td>0.00</td>\n",
       "      <td>0.000</td>\n",
       "      <td>0.000</td>\n",
       "      <td>0.000</td>\n",
       "      <td>5</td>\n",
       "    </tr>\n",
       "    <tr>\n",
       "      <th>Alaskan Malamute</th>\n",
       "      <td>0.00</td>\n",
       "      <td>0.00</td>\n",
       "      <td>0.00</td>\n",
       "      <td>0.000</td>\n",
       "      <td>0.000</td>\n",
       "      <td>0.000</td>\n",
       "      <td>2</td>\n",
       "    </tr>\n",
       "    <tr>\n",
       "      <th>Yorkshire Terrier</th>\n",
       "      <td>20.32</td>\n",
       "      <td>20.32</td>\n",
       "      <td>0.00</td>\n",
       "      <td>1.362</td>\n",
       "      <td>3.178</td>\n",
       "      <td>1.816</td>\n",
       "      <td>nan-nan</td>\n",
       "    </tr>\n",
       "    <tr>\n",
       "      <th>Brussels Griffon</th>\n",
       "      <td>17.78</td>\n",
       "      <td>20.32</td>\n",
       "      <td>2.54</td>\n",
       "      <td>2.724</td>\n",
       "      <td>5.448</td>\n",
       "      <td>2.724</td>\n",
       "      <td>5</td>\n",
       "    </tr>\n",
       "    <tr>\n",
       "      <th>Chihuahua</th>\n",
       "      <td>15.24</td>\n",
       "      <td>22.86</td>\n",
       "      <td>7.62</td>\n",
       "      <td>0.908</td>\n",
       "      <td>2.270</td>\n",
       "      <td>1.362</td>\n",
       "      <td>nan-nan</td>\n",
       "    </tr>\n",
       "    <tr>\n",
       "      <th>...</th>\n",
       "      <td>...</td>\n",
       "      <td>...</td>\n",
       "      <td>...</td>\n",
       "      <td>...</td>\n",
       "      <td>...</td>\n",
       "      <td>...</td>\n",
       "      <td>...</td>\n",
       "    </tr>\n",
       "    <tr>\n",
       "      <th>Great Dane</th>\n",
       "      <td>81.28</td>\n",
       "      <td>81.28</td>\n",
       "      <td>0.00</td>\n",
       "      <td>54.480</td>\n",
       "      <td>72.640</td>\n",
       "      <td>18.160</td>\n",
       "      <td>1</td>\n",
       "    </tr>\n",
       "    <tr>\n",
       "      <th>Scottish Deerhound</th>\n",
       "      <td>71.12</td>\n",
       "      <td>81.28</td>\n",
       "      <td>10.16</td>\n",
       "      <td>34.050</td>\n",
       "      <td>49.940</td>\n",
       "      <td>15.890</td>\n",
       "      <td>3</td>\n",
       "    </tr>\n",
       "    <tr>\n",
       "      <th>Irish Wolfhound</th>\n",
       "      <td>71.12</td>\n",
       "      <td>88.90</td>\n",
       "      <td>17.78</td>\n",
       "      <td>40.860</td>\n",
       "      <td>68.100</td>\n",
       "      <td>27.240</td>\n",
       "      <td>1</td>\n",
       "    </tr>\n",
       "    <tr>\n",
       "      <th>Komondor</th>\n",
       "      <td>67.31</td>\n",
       "      <td>90.17</td>\n",
       "      <td>22.86</td>\n",
       "      <td>36.320</td>\n",
       "      <td>61.290</td>\n",
       "      <td>24.970</td>\n",
       "      <td>3</td>\n",
       "    </tr>\n",
       "    <tr>\n",
       "      <th>Vizsla</th>\n",
       "      <td>121.92</td>\n",
       "      <td>167.64</td>\n",
       "      <td>45.72</td>\n",
       "      <td>9.988</td>\n",
       "      <td>11.350</td>\n",
       "      <td>1.362</td>\n",
       "      <td>4</td>\n",
       "    </tr>\n",
       "  </tbody>\n",
       "</table>\n",
       "<p>150 rows × 7 columns</p>\n",
       "</div>"
      ],
      "text/plain": [
       "                    height_low_cm  heigt_high_cm  height_diff  weight_low_kg  \\\n",
       "Breed                                                                          \n",
       "Coton de Tulear              0.00           0.00         0.00          0.000   \n",
       "Alaskan Malamute             0.00           0.00         0.00          0.000   \n",
       "Yorkshire Terrier           20.32          20.32         0.00          1.362   \n",
       "Brussels Griffon            17.78          20.32         2.54          2.724   \n",
       "Chihuahua                   15.24          22.86         7.62          0.908   \n",
       "...                           ...            ...          ...            ...   \n",
       "Great Dane                  81.28          81.28         0.00         54.480   \n",
       "Scottish Deerhound          71.12          81.28        10.16         34.050   \n",
       "Irish Wolfhound             71.12          88.90        17.78         40.860   \n",
       "Komondor                    67.31          90.17        22.86         36.320   \n",
       "Vizsla                     121.92         167.64        45.72          9.988   \n",
       "\n",
       "                    weight_high_kg  weight_diff number_of_reps  \n",
       "Breed                                                           \n",
       "Coton de Tulear              0.000        0.000              5  \n",
       "Alaskan Malamute             0.000        0.000              2  \n",
       "Yorkshire Terrier            3.178        1.816        nan-nan  \n",
       "Brussels Griffon             5.448        2.724              5  \n",
       "Chihuahua                    2.270        1.362        nan-nan  \n",
       "...                            ...          ...            ...  \n",
       "Great Dane                  72.640       18.160              1  \n",
       "Scottish Deerhound          49.940       15.890              3  \n",
       "Irish Wolfhound             68.100       27.240              1  \n",
       "Komondor                    61.290       24.970              3  \n",
       "Vizsla                      11.350        1.362              4  \n",
       "\n",
       "[150 rows x 7 columns]"
      ]
     },
     "execution_count": 29,
     "metadata": {},
     "output_type": "execute_result"
    }
   ],
   "source": [
    "dog_data.sort_values(by = \"heigt_high_cm\")"
   ]
  },
  {
   "cell_type": "markdown",
   "id": "d2f8dbe7",
   "metadata": {},
   "source": [
    "Dropping rows which does not contain any relevant data - Coton de Tulear and Alaskan Malamute rows."
   ]
  },
  {
   "cell_type": "code",
   "execution_count": 30,
   "id": "8e5f018f",
   "metadata": {},
   "outputs": [],
   "source": [
    "dog_data.dropna(how = \"any\", inplace=True)"
   ]
  },
  {
   "cell_type": "code",
   "execution_count": 31,
   "id": "090521b1",
   "metadata": {},
   "outputs": [],
   "source": [
    "dog_data.replace('nan-nan', np.nan, inplace=True)"
   ]
  },
  {
   "cell_type": "code",
   "execution_count": 32,
   "id": "b2440a4e",
   "metadata": {
    "scrolled": false
   },
   "outputs": [
    {
     "data": {
      "text/plain": [
       "4.0    42\n",
       "3.0    30\n",
       "5.0    22\n",
       "2.0    21\n",
       "6.0    11\n",
       "1.0    10\n",
       "Name: number_of_reps, dtype: int64"
      ]
     },
     "execution_count": 32,
     "metadata": {},
     "output_type": "execute_result"
    }
   ],
   "source": [
    "dog_data[\"number_of_reps\"].value_counts()"
   ]
  },
  {
   "cell_type": "markdown",
   "id": "6e1a05e8",
   "metadata": {},
   "source": [
    "Creating a second data frame only with rows that does not contain NaN values."
   ]
  },
  {
   "cell_type": "code",
   "execution_count": 33,
   "id": "e92a5eeb",
   "metadata": {},
   "outputs": [],
   "source": [
    "dog_data_dropped = dog_data.dropna()"
   ]
  },
  {
   "cell_type": "code",
   "execution_count": 34,
   "id": "a26f5097",
   "metadata": {},
   "outputs": [
    {
     "data": {
      "text/html": [
       "<div>\n",
       "<style scoped>\n",
       "    .dataframe tbody tr th:only-of-type {\n",
       "        vertical-align: middle;\n",
       "    }\n",
       "\n",
       "    .dataframe tbody tr th {\n",
       "        vertical-align: top;\n",
       "    }\n",
       "\n",
       "    .dataframe thead th {\n",
       "        text-align: right;\n",
       "    }\n",
       "</style>\n",
       "<table border=\"1\" class=\"dataframe\">\n",
       "  <thead>\n",
       "    <tr style=\"text-align: right;\">\n",
       "      <th></th>\n",
       "      <th>height_low_cm</th>\n",
       "      <th>heigt_high_cm</th>\n",
       "      <th>height_diff</th>\n",
       "      <th>weight_low_kg</th>\n",
       "      <th>weight_high_kg</th>\n",
       "      <th>weight_diff</th>\n",
       "      <th>number_of_reps</th>\n",
       "    </tr>\n",
       "    <tr>\n",
       "      <th>Breed</th>\n",
       "      <th></th>\n",
       "      <th></th>\n",
       "      <th></th>\n",
       "      <th></th>\n",
       "      <th></th>\n",
       "      <th></th>\n",
       "      <th></th>\n",
       "    </tr>\n",
       "  </thead>\n",
       "  <tbody>\n",
       "    <tr>\n",
       "      <th>Akita</th>\n",
       "      <td>66.04</td>\n",
       "      <td>71.12</td>\n",
       "      <td>5.08</td>\n",
       "      <td>36.320</td>\n",
       "      <td>54.480</td>\n",
       "      <td>18.160</td>\n",
       "      <td>1.0</td>\n",
       "    </tr>\n",
       "    <tr>\n",
       "      <th>A0tolian Sheepdog</th>\n",
       "      <td>68.58</td>\n",
       "      <td>73.66</td>\n",
       "      <td>5.08</td>\n",
       "      <td>45.400</td>\n",
       "      <td>68.100</td>\n",
       "      <td>22.700</td>\n",
       "      <td>1.0</td>\n",
       "    </tr>\n",
       "    <tr>\n",
       "      <th>Bernese Mountain Dog</th>\n",
       "      <td>58.42</td>\n",
       "      <td>68.58</td>\n",
       "      <td>10.16</td>\n",
       "      <td>38.590</td>\n",
       "      <td>49.940</td>\n",
       "      <td>11.350</td>\n",
       "      <td>1.0</td>\n",
       "    </tr>\n",
       "    <tr>\n",
       "      <th>Bloodhound</th>\n",
       "      <td>60.96</td>\n",
       "      <td>66.04</td>\n",
       "      <td>5.08</td>\n",
       "      <td>36.320</td>\n",
       "      <td>54.480</td>\n",
       "      <td>18.160</td>\n",
       "      <td>1.0</td>\n",
       "    </tr>\n",
       "    <tr>\n",
       "      <th>Borzoi</th>\n",
       "      <td>66.04</td>\n",
       "      <td>71.12</td>\n",
       "      <td>5.08</td>\n",
       "      <td>31.780</td>\n",
       "      <td>45.400</td>\n",
       "      <td>13.620</td>\n",
       "      <td>1.0</td>\n",
       "    </tr>\n",
       "    <tr>\n",
       "      <th>...</th>\n",
       "      <td>...</td>\n",
       "      <td>...</td>\n",
       "      <td>...</td>\n",
       "      <td>...</td>\n",
       "      <td>...</td>\n",
       "      <td>...</td>\n",
       "      <td>...</td>\n",
       "    </tr>\n",
       "    <tr>\n",
       "      <th>Silky Terrier</th>\n",
       "      <td>22.86</td>\n",
       "      <td>25.40</td>\n",
       "      <td>2.54</td>\n",
       "      <td>3.632</td>\n",
       "      <td>4.994</td>\n",
       "      <td>1.362</td>\n",
       "      <td>6.0</td>\n",
       "    </tr>\n",
       "    <tr>\n",
       "      <th>Skye Terrier</th>\n",
       "      <td>25.40</td>\n",
       "      <td>25.40</td>\n",
       "      <td>0.00</td>\n",
       "      <td>11.350</td>\n",
       "      <td>11.350</td>\n",
       "      <td>0.000</td>\n",
       "      <td>6.0</td>\n",
       "    </tr>\n",
       "    <tr>\n",
       "      <th>Tibetan Spaniel</th>\n",
       "      <td>25.40</td>\n",
       "      <td>25.40</td>\n",
       "      <td>0.00</td>\n",
       "      <td>4.086</td>\n",
       "      <td>6.810</td>\n",
       "      <td>2.724</td>\n",
       "      <td>6.0</td>\n",
       "    </tr>\n",
       "    <tr>\n",
       "      <th>Tibetan Terrier</th>\n",
       "      <td>35.56</td>\n",
       "      <td>43.18</td>\n",
       "      <td>7.62</td>\n",
       "      <td>9.080</td>\n",
       "      <td>13.620</td>\n",
       "      <td>4.540</td>\n",
       "      <td>6.0</td>\n",
       "    </tr>\n",
       "    <tr>\n",
       "      <th>Welsh Terrier</th>\n",
       "      <td>38.10</td>\n",
       "      <td>38.10</td>\n",
       "      <td>0.00</td>\n",
       "      <td>9.080</td>\n",
       "      <td>9.534</td>\n",
       "      <td>0.454</td>\n",
       "      <td>6.0</td>\n",
       "    </tr>\n",
       "  </tbody>\n",
       "</table>\n",
       "<p>136 rows × 7 columns</p>\n",
       "</div>"
      ],
      "text/plain": [
       "                      height_low_cm  heigt_high_cm  height_diff  \\\n",
       "Breed                                                             \n",
       "Akita                         66.04          71.12         5.08   \n",
       "A0tolian Sheepdog             68.58          73.66         5.08   \n",
       "Bernese Mountain Dog          58.42          68.58        10.16   \n",
       "Bloodhound                    60.96          66.04         5.08   \n",
       "Borzoi                        66.04          71.12         5.08   \n",
       "...                             ...            ...          ...   \n",
       "Silky Terrier                 22.86          25.40         2.54   \n",
       "Skye Terrier                  25.40          25.40         0.00   \n",
       "Tibetan Spaniel               25.40          25.40         0.00   \n",
       "Tibetan Terrier               35.56          43.18         7.62   \n",
       "Welsh Terrier                 38.10          38.10         0.00   \n",
       "\n",
       "                      weight_low_kg  weight_high_kg  weight_diff  \\\n",
       "Breed                                                              \n",
       "Akita                        36.320          54.480       18.160   \n",
       "A0tolian Sheepdog            45.400          68.100       22.700   \n",
       "Bernese Mountain Dog         38.590          49.940       11.350   \n",
       "Bloodhound                   36.320          54.480       18.160   \n",
       "Borzoi                       31.780          45.400       13.620   \n",
       "...                             ...             ...          ...   \n",
       "Silky Terrier                 3.632           4.994        1.362   \n",
       "Skye Terrier                 11.350          11.350        0.000   \n",
       "Tibetan Spaniel               4.086           6.810        2.724   \n",
       "Tibetan Terrier               9.080          13.620        4.540   \n",
       "Welsh Terrier                 9.080           9.534        0.454   \n",
       "\n",
       "                      number_of_reps  \n",
       "Breed                                 \n",
       "Akita                            1.0  \n",
       "A0tolian Sheepdog                1.0  \n",
       "Bernese Mountain Dog             1.0  \n",
       "Bloodhound                       1.0  \n",
       "Borzoi                           1.0  \n",
       "...                              ...  \n",
       "Silky Terrier                    6.0  \n",
       "Skye Terrier                     6.0  \n",
       "Tibetan Spaniel                  6.0  \n",
       "Tibetan Terrier                  6.0  \n",
       "Welsh Terrier                    6.0  \n",
       "\n",
       "[136 rows x 7 columns]"
      ]
     },
     "execution_count": 34,
     "metadata": {},
     "output_type": "execute_result"
    }
   ],
   "source": [
    "dog_data_dropped"
   ]
  },
  {
   "cell_type": "markdown",
   "id": "0d606ca0",
   "metadata": {},
   "source": [
    "# Building a random forrest classifier model"
   ]
  },
  {
   "cell_type": "code",
   "execution_count": 35,
   "id": "f5450ad2",
   "metadata": {},
   "outputs": [],
   "source": [
    "y = dog_data_dropped.number_of_reps"
   ]
  },
  {
   "cell_type": "markdown",
   "id": "37e706b6",
   "metadata": {},
   "source": [
    "About to build few models, each one with different set of features"
   ]
  },
  {
   "cell_type": "code",
   "execution_count": 36,
   "id": "6b792318",
   "metadata": {},
   "outputs": [],
   "source": [
    "dog_intelligence_features_1 = [\"height_low_cm\",\"heigt_high_cm\", \"weight_low_kg\",\"weight_high_kg\"]\n",
    "dog_intelligence_features_2 = [\"height_diff\", \"weight_diff\"]\n",
    "dog_intelligence_features_3 = [\"height_low_cm\",\"heigt_high_cm\", \"weight_low_kg\",\"weight_high_kg\", \"height_diff\", \"weight_diff\"]"
   ]
  },
  {
   "cell_type": "code",
   "execution_count": 37,
   "id": "d2aef2ae",
   "metadata": {},
   "outputs": [
    {
     "data": {
      "text/plain": [
       "[1.0, 2.0, 3.0, 4.0, 5.0, 6.0]"
      ]
     },
     "execution_count": 37,
     "metadata": {},
     "output_type": "execute_result"
    }
   ],
   "source": [
    "di_class_names = dog_data_dropped.number_of_reps.unique()\n",
    "di_class_names=di_class_names.tolist()\n",
    "di_class_names"
   ]
  },
  {
   "cell_type": "code",
   "execution_count": 38,
   "id": "2c085c4e",
   "metadata": {},
   "outputs": [],
   "source": [
    "X1 = dog_data_dropped[dog_intelligence_features_1]\n",
    "X2 = dog_data_dropped[dog_intelligence_features_2]\n",
    "X3 = dog_data_dropped[dog_intelligence_features_3]"
   ]
  },
  {
   "cell_type": "code",
   "execution_count": 39,
   "id": "d8ddb22f",
   "metadata": {},
   "outputs": [],
   "source": [
    "dog_intelligence_model= RandomForestClassifier(n_estimators=115)"
   ]
  },
  {
   "cell_type": "markdown",
   "id": "b51e1115",
   "metadata": {},
   "source": [
    "Testing first set of featurfes - height_low_cm, heigt_high_cm, weight_low_kg, weight_high_kg"
   ]
  },
  {
   "cell_type": "code",
   "execution_count": 40,
   "id": "f94f23a0",
   "metadata": {
    "scrolled": true
   },
   "outputs": [
    {
     "data": {
      "text/html": [
       "<div>\n",
       "<style scoped>\n",
       "    .dataframe tbody tr th:only-of-type {\n",
       "        vertical-align: middle;\n",
       "    }\n",
       "\n",
       "    .dataframe tbody tr th {\n",
       "        vertical-align: top;\n",
       "    }\n",
       "\n",
       "    .dataframe thead th {\n",
       "        text-align: right;\n",
       "    }\n",
       "</style>\n",
       "<table border=\"1\" class=\"dataframe\">\n",
       "  <thead>\n",
       "    <tr style=\"text-align: right;\">\n",
       "      <th></th>\n",
       "      <th>height_low_cm</th>\n",
       "      <th>heigt_high_cm</th>\n",
       "      <th>weight_low_kg</th>\n",
       "      <th>weight_high_kg</th>\n",
       "    </tr>\n",
       "  </thead>\n",
       "  <tbody>\n",
       "    <tr>\n",
       "      <th>count</th>\n",
       "      <td>136.000000</td>\n",
       "      <td>136.000000</td>\n",
       "      <td>136.000000</td>\n",
       "      <td>136.000000</td>\n",
       "    </tr>\n",
       "    <tr>\n",
       "      <th>mean</th>\n",
       "      <td>47.008676</td>\n",
       "      <td>54.815441</td>\n",
       "      <td>20.894015</td>\n",
       "      <td>28.027824</td>\n",
       "    </tr>\n",
       "    <tr>\n",
       "      <th>std</th>\n",
       "      <td>16.470503</td>\n",
       "      <td>19.626859</td>\n",
       "      <td>13.682460</td>\n",
       "      <td>18.515866</td>\n",
       "    </tr>\n",
       "    <tr>\n",
       "      <th>min</th>\n",
       "      <td>0.000000</td>\n",
       "      <td>0.000000</td>\n",
       "      <td>0.000000</td>\n",
       "      <td>0.000000</td>\n",
       "    </tr>\n",
       "    <tr>\n",
       "      <th>25%</th>\n",
       "      <td>35.560000</td>\n",
       "      <td>40.640000</td>\n",
       "      <td>10.669000</td>\n",
       "      <td>13.620000</td>\n",
       "    </tr>\n",
       "    <tr>\n",
       "      <th>50%</th>\n",
       "      <td>48.260000</td>\n",
       "      <td>58.420000</td>\n",
       "      <td>18.614000</td>\n",
       "      <td>24.970000</td>\n",
       "    </tr>\n",
       "    <tr>\n",
       "      <th>75%</th>\n",
       "      <td>58.420000</td>\n",
       "      <td>68.580000</td>\n",
       "      <td>27.240000</td>\n",
       "      <td>34.163500</td>\n",
       "    </tr>\n",
       "    <tr>\n",
       "      <th>max</th>\n",
       "      <td>121.920000</td>\n",
       "      <td>167.640000</td>\n",
       "      <td>79.450000</td>\n",
       "      <td>86.260000</td>\n",
       "    </tr>\n",
       "  </tbody>\n",
       "</table>\n",
       "</div>"
      ],
      "text/plain": [
       "       height_low_cm  heigt_high_cm  weight_low_kg  weight_high_kg\n",
       "count     136.000000     136.000000     136.000000      136.000000\n",
       "mean       47.008676      54.815441      20.894015       28.027824\n",
       "std        16.470503      19.626859      13.682460       18.515866\n",
       "min         0.000000       0.000000       0.000000        0.000000\n",
       "25%        35.560000      40.640000      10.669000       13.620000\n",
       "50%        48.260000      58.420000      18.614000       24.970000\n",
       "75%        58.420000      68.580000      27.240000       34.163500\n",
       "max       121.920000     167.640000      79.450000       86.260000"
      ]
     },
     "execution_count": 40,
     "metadata": {},
     "output_type": "execute_result"
    }
   ],
   "source": [
    "X1.describe()"
   ]
  },
  {
   "cell_type": "code",
   "execution_count": 41,
   "id": "ec3fb001",
   "metadata": {},
   "outputs": [],
   "source": [
    "X1_train, X1_test, y1_train, y1_test = train_test_split(X1, y, test_size=0.4, random_state=1)#70% training, 30% test"
   ]
  },
  {
   "cell_type": "code",
   "execution_count": 42,
   "id": "de02dc12",
   "metadata": {},
   "outputs": [],
   "source": [
    "dog_intelligence_model_1 = dog_intelligence_model.fit(X1_train, y1_train)"
   ]
  },
  {
   "cell_type": "code",
   "execution_count": 43,
   "id": "b7b62a87",
   "metadata": {},
   "outputs": [],
   "source": [
    "X1_train = X1_train.values\n",
    "y1_pred = dog_intelligence_model_1.predict(X1_test)"
   ]
  },
  {
   "cell_type": "code",
   "execution_count": 44,
   "id": "a7080df0",
   "metadata": {},
   "outputs": [],
   "source": [
    "accuracy1 = metrics.accuracy_score(y1_test, y1_pred)\n",
    "recall1 = metrics.recall_score(y1_test,y1_pred, average='macro') \n",
    "precision1 = metrics.precision_score(y1_test,y1_pred, average='macro', zero_division=0)"
   ]
  },
  {
   "cell_type": "code",
   "execution_count": 45,
   "id": "2e724c7c",
   "metadata": {},
   "outputs": [
    {
     "name": "stdout",
     "output_type": "stream",
     "text": [
      "Accuracy:  50.91 %\n",
      "Recall:  43.93 %\n",
      "Precision:  41.84 %\n"
     ]
    }
   ],
   "source": [
    "print(\"Accuracy: \", round(accuracy1*100, 2), \"%\")\n",
    "print(\"Recall: \", round(recall1*100, 2), \"%\")\n",
    "print(\"Precision: \",round(precision1*100, 2), \"%\")"
   ]
  },
  {
   "cell_type": "markdown",
   "id": "cf47e160",
   "metadata": {},
   "source": [
    "Testing second set of featurfes - height_diff and weight_diff"
   ]
  },
  {
   "cell_type": "code",
   "execution_count": 46,
   "id": "96161441",
   "metadata": {
    "scrolled": true
   },
   "outputs": [
    {
     "data": {
      "text/html": [
       "<div>\n",
       "<style scoped>\n",
       "    .dataframe tbody tr th:only-of-type {\n",
       "        vertical-align: middle;\n",
       "    }\n",
       "\n",
       "    .dataframe tbody tr th {\n",
       "        vertical-align: top;\n",
       "    }\n",
       "\n",
       "    .dataframe thead th {\n",
       "        text-align: right;\n",
       "    }\n",
       "</style>\n",
       "<table border=\"1\" class=\"dataframe\">\n",
       "  <thead>\n",
       "    <tr style=\"text-align: right;\">\n",
       "      <th></th>\n",
       "      <th>height_diff</th>\n",
       "      <th>weight_diff</th>\n",
       "    </tr>\n",
       "  </thead>\n",
       "  <tbody>\n",
       "    <tr>\n",
       "      <th>count</th>\n",
       "      <td>136.000000</td>\n",
       "      <td>136.000000</td>\n",
       "    </tr>\n",
       "    <tr>\n",
       "      <th>mean</th>\n",
       "      <td>7.806765</td>\n",
       "      <td>7.133809</td>\n",
       "    </tr>\n",
       "    <tr>\n",
       "      <th>std</th>\n",
       "      <td>6.295256</td>\n",
       "      <td>6.660250</td>\n",
       "    </tr>\n",
       "    <tr>\n",
       "      <th>min</th>\n",
       "      <td>0.000000</td>\n",
       "      <td>0.000000</td>\n",
       "    </tr>\n",
       "    <tr>\n",
       "      <th>25%</th>\n",
       "      <td>5.080000</td>\n",
       "      <td>2.270000</td>\n",
       "    </tr>\n",
       "    <tr>\n",
       "      <th>50%</th>\n",
       "      <td>7.620000</td>\n",
       "      <td>4.540000</td>\n",
       "    </tr>\n",
       "    <tr>\n",
       "      <th>75%</th>\n",
       "      <td>10.160000</td>\n",
       "      <td>9.080000</td>\n",
       "    </tr>\n",
       "    <tr>\n",
       "      <th>max</th>\n",
       "      <td>45.720000</td>\n",
       "      <td>36.320000</td>\n",
       "    </tr>\n",
       "  </tbody>\n",
       "</table>\n",
       "</div>"
      ],
      "text/plain": [
       "       height_diff  weight_diff\n",
       "count   136.000000   136.000000\n",
       "mean      7.806765     7.133809\n",
       "std       6.295256     6.660250\n",
       "min       0.000000     0.000000\n",
       "25%       5.080000     2.270000\n",
       "50%       7.620000     4.540000\n",
       "75%      10.160000     9.080000\n",
       "max      45.720000    36.320000"
      ]
     },
     "execution_count": 46,
     "metadata": {},
     "output_type": "execute_result"
    }
   ],
   "source": [
    "X2.describe()"
   ]
  },
  {
   "cell_type": "code",
   "execution_count": 47,
   "id": "fb7cccf5",
   "metadata": {},
   "outputs": [],
   "source": [
    "X2_train,X2_test, y2_train, y2_test = train_test_split(X2, y, test_size=0.4, random_state=2)"
   ]
  },
  {
   "cell_type": "code",
   "execution_count": 48,
   "id": "6fa5530d",
   "metadata": {},
   "outputs": [],
   "source": [
    "dog_intelligence_model_2 = dog_intelligence_model.fit(X2_train, y2_train)"
   ]
  },
  {
   "cell_type": "code",
   "execution_count": 49,
   "id": "f0d87e20",
   "metadata": {},
   "outputs": [],
   "source": [
    "y2_pred = dog_intelligence_model_2.predict(X2_test)"
   ]
  },
  {
   "cell_type": "code",
   "execution_count": 50,
   "id": "71c9e79b",
   "metadata": {},
   "outputs": [],
   "source": [
    "accuracy2 = metrics.accuracy_score(y2_test, y2_pred)\n",
    "recall2 = metrics.recall_score(y2_test,y2_pred, average='macro') \n",
    "precision2 = metrics.precision_score(y2_test,y2_pred, average='macro', zero_division=0)"
   ]
  },
  {
   "cell_type": "code",
   "execution_count": 51,
   "id": "2c3a8c0a",
   "metadata": {
    "scrolled": true
   },
   "outputs": [
    {
     "name": "stdout",
     "output_type": "stream",
     "text": [
      "Accuracy:  21.82 %\n",
      "Recall:  20.54 %\n",
      "Precision:  22.4 %\n"
     ]
    }
   ],
   "source": [
    "print(\"Accuracy: \", round(accuracy2*100, 2), \"%\")\n",
    "print(\"Recall: \", round(recall2*100, 2), \"%\")\n",
    "print(\"Precision: \",round(precision2*100, 2), \"%\")"
   ]
  },
  {
   "cell_type": "markdown",
   "id": "c0f68ad6",
   "metadata": {},
   "source": [
    "Testing third set of featurfes - height_low_cm, heigt_high_cm, weight_low_kg, weight_high_kg, height_diff, weight_diff"
   ]
  },
  {
   "cell_type": "code",
   "execution_count": 52,
   "id": "aedfc88d",
   "metadata": {},
   "outputs": [
    {
     "data": {
      "text/html": [
       "<div>\n",
       "<style scoped>\n",
       "    .dataframe tbody tr th:only-of-type {\n",
       "        vertical-align: middle;\n",
       "    }\n",
       "\n",
       "    .dataframe tbody tr th {\n",
       "        vertical-align: top;\n",
       "    }\n",
       "\n",
       "    .dataframe thead th {\n",
       "        text-align: right;\n",
       "    }\n",
       "</style>\n",
       "<table border=\"1\" class=\"dataframe\">\n",
       "  <thead>\n",
       "    <tr style=\"text-align: right;\">\n",
       "      <th></th>\n",
       "      <th>height_low_cm</th>\n",
       "      <th>heigt_high_cm</th>\n",
       "      <th>weight_low_kg</th>\n",
       "      <th>weight_high_kg</th>\n",
       "      <th>height_diff</th>\n",
       "      <th>weight_diff</th>\n",
       "    </tr>\n",
       "  </thead>\n",
       "  <tbody>\n",
       "    <tr>\n",
       "      <th>count</th>\n",
       "      <td>136.000000</td>\n",
       "      <td>136.000000</td>\n",
       "      <td>136.000000</td>\n",
       "      <td>136.000000</td>\n",
       "      <td>136.000000</td>\n",
       "      <td>136.000000</td>\n",
       "    </tr>\n",
       "    <tr>\n",
       "      <th>mean</th>\n",
       "      <td>47.008676</td>\n",
       "      <td>54.815441</td>\n",
       "      <td>20.894015</td>\n",
       "      <td>28.027824</td>\n",
       "      <td>7.806765</td>\n",
       "      <td>7.133809</td>\n",
       "    </tr>\n",
       "    <tr>\n",
       "      <th>std</th>\n",
       "      <td>16.470503</td>\n",
       "      <td>19.626859</td>\n",
       "      <td>13.682460</td>\n",
       "      <td>18.515866</td>\n",
       "      <td>6.295256</td>\n",
       "      <td>6.660250</td>\n",
       "    </tr>\n",
       "    <tr>\n",
       "      <th>min</th>\n",
       "      <td>0.000000</td>\n",
       "      <td>0.000000</td>\n",
       "      <td>0.000000</td>\n",
       "      <td>0.000000</td>\n",
       "      <td>0.000000</td>\n",
       "      <td>0.000000</td>\n",
       "    </tr>\n",
       "    <tr>\n",
       "      <th>25%</th>\n",
       "      <td>35.560000</td>\n",
       "      <td>40.640000</td>\n",
       "      <td>10.669000</td>\n",
       "      <td>13.620000</td>\n",
       "      <td>5.080000</td>\n",
       "      <td>2.270000</td>\n",
       "    </tr>\n",
       "    <tr>\n",
       "      <th>50%</th>\n",
       "      <td>48.260000</td>\n",
       "      <td>58.420000</td>\n",
       "      <td>18.614000</td>\n",
       "      <td>24.970000</td>\n",
       "      <td>7.620000</td>\n",
       "      <td>4.540000</td>\n",
       "    </tr>\n",
       "    <tr>\n",
       "      <th>75%</th>\n",
       "      <td>58.420000</td>\n",
       "      <td>68.580000</td>\n",
       "      <td>27.240000</td>\n",
       "      <td>34.163500</td>\n",
       "      <td>10.160000</td>\n",
       "      <td>9.080000</td>\n",
       "    </tr>\n",
       "    <tr>\n",
       "      <th>max</th>\n",
       "      <td>121.920000</td>\n",
       "      <td>167.640000</td>\n",
       "      <td>79.450000</td>\n",
       "      <td>86.260000</td>\n",
       "      <td>45.720000</td>\n",
       "      <td>36.320000</td>\n",
       "    </tr>\n",
       "  </tbody>\n",
       "</table>\n",
       "</div>"
      ],
      "text/plain": [
       "       height_low_cm  heigt_high_cm  weight_low_kg  weight_high_kg  \\\n",
       "count     136.000000     136.000000     136.000000      136.000000   \n",
       "mean       47.008676      54.815441      20.894015       28.027824   \n",
       "std        16.470503      19.626859      13.682460       18.515866   \n",
       "min         0.000000       0.000000       0.000000        0.000000   \n",
       "25%        35.560000      40.640000      10.669000       13.620000   \n",
       "50%        48.260000      58.420000      18.614000       24.970000   \n",
       "75%        58.420000      68.580000      27.240000       34.163500   \n",
       "max       121.920000     167.640000      79.450000       86.260000   \n",
       "\n",
       "       height_diff  weight_diff  \n",
       "count   136.000000   136.000000  \n",
       "mean      7.806765     7.133809  \n",
       "std       6.295256     6.660250  \n",
       "min       0.000000     0.000000  \n",
       "25%       5.080000     2.270000  \n",
       "50%       7.620000     4.540000  \n",
       "75%      10.160000     9.080000  \n",
       "max      45.720000    36.320000  "
      ]
     },
     "execution_count": 52,
     "metadata": {},
     "output_type": "execute_result"
    }
   ],
   "source": [
    "X3.describe()"
   ]
  },
  {
   "cell_type": "code",
   "execution_count": 53,
   "id": "9d5f5bc5",
   "metadata": {},
   "outputs": [],
   "source": [
    "X3_train,X3_test, y3_train, y3_test = train_test_split(X3, y, test_size=0.4, random_state=0)"
   ]
  },
  {
   "cell_type": "code",
   "execution_count": 54,
   "id": "cf5d44c8",
   "metadata": {},
   "outputs": [],
   "source": [
    "dog_intelligence_model_3 = dog_intelligence_model.fit(X3_train, y3_train)"
   ]
  },
  {
   "cell_type": "code",
   "execution_count": 55,
   "id": "d463e278",
   "metadata": {},
   "outputs": [],
   "source": [
    "y3_pred = dog_intelligence_model_3.predict(X3_test)"
   ]
  },
  {
   "cell_type": "code",
   "execution_count": 56,
   "id": "101e45af",
   "metadata": {},
   "outputs": [],
   "source": [
    "accuracy3 = metrics.accuracy_score(y3_test, y3_pred)\n",
    "recall3 = metrics.recall_score(y3_test,y3_pred, average='macro') \n",
    "precision3 = metrics.precision_score(y3_test,y3_pred, average='macro', zero_division=0)"
   ]
  },
  {
   "cell_type": "code",
   "execution_count": 57,
   "id": "ffe3400b",
   "metadata": {},
   "outputs": [
    {
     "name": "stdout",
     "output_type": "stream",
     "text": [
      "Accuracy:  54.55 %\n",
      "Recall:  50.82 %\n",
      "Precision:  48.09 %\n"
     ]
    }
   ],
   "source": [
    "print(\"Accuracy: \", round(accuracy3*100, 2), \"%\")\n",
    "print(\"Recall: \", round(recall3*100, 2), \"%\")\n",
    "print(\"Precision: \",round(precision3*100, 2), \"%\")"
   ]
  },
  {
   "cell_type": "markdown",
   "id": "59ac1dfc",
   "metadata": {},
   "source": [
    "Finding important features"
   ]
  },
  {
   "cell_type": "code",
   "execution_count": 58,
   "id": "ba9be601",
   "metadata": {},
   "outputs": [
    {
     "data": {
      "text/html": [
       "<style>#sk-container-id-1 {color: black;background-color: white;}#sk-container-id-1 pre{padding: 0;}#sk-container-id-1 div.sk-toggleable {background-color: white;}#sk-container-id-1 label.sk-toggleable__label {cursor: pointer;display: block;width: 100%;margin-bottom: 0;padding: 0.3em;box-sizing: border-box;text-align: center;}#sk-container-id-1 label.sk-toggleable__label-arrow:before {content: \"▸\";float: left;margin-right: 0.25em;color: #696969;}#sk-container-id-1 label.sk-toggleable__label-arrow:hover:before {color: black;}#sk-container-id-1 div.sk-estimator:hover label.sk-toggleable__label-arrow:before {color: black;}#sk-container-id-1 div.sk-toggleable__content {max-height: 0;max-width: 0;overflow: hidden;text-align: left;background-color: #f0f8ff;}#sk-container-id-1 div.sk-toggleable__content pre {margin: 0.2em;color: black;border-radius: 0.25em;background-color: #f0f8ff;}#sk-container-id-1 input.sk-toggleable__control:checked~div.sk-toggleable__content {max-height: 200px;max-width: 100%;overflow: auto;}#sk-container-id-1 input.sk-toggleable__control:checked~label.sk-toggleable__label-arrow:before {content: \"▾\";}#sk-container-id-1 div.sk-estimator input.sk-toggleable__control:checked~label.sk-toggleable__label {background-color: #d4ebff;}#sk-container-id-1 div.sk-label input.sk-toggleable__control:checked~label.sk-toggleable__label {background-color: #d4ebff;}#sk-container-id-1 input.sk-hidden--visually {border: 0;clip: rect(1px 1px 1px 1px);clip: rect(1px, 1px, 1px, 1px);height: 1px;margin: -1px;overflow: hidden;padding: 0;position: absolute;width: 1px;}#sk-container-id-1 div.sk-estimator {font-family: monospace;background-color: #f0f8ff;border: 1px dotted black;border-radius: 0.25em;box-sizing: border-box;margin-bottom: 0.5em;}#sk-container-id-1 div.sk-estimator:hover {background-color: #d4ebff;}#sk-container-id-1 div.sk-parallel-item::after {content: \"\";width: 100%;border-bottom: 1px solid gray;flex-grow: 1;}#sk-container-id-1 div.sk-label:hover label.sk-toggleable__label {background-color: #d4ebff;}#sk-container-id-1 div.sk-serial::before {content: \"\";position: absolute;border-left: 1px solid gray;box-sizing: border-box;top: 0;bottom: 0;left: 50%;z-index: 0;}#sk-container-id-1 div.sk-serial {display: flex;flex-direction: column;align-items: center;background-color: white;padding-right: 0.2em;padding-left: 0.2em;position: relative;}#sk-container-id-1 div.sk-item {position: relative;z-index: 1;}#sk-container-id-1 div.sk-parallel {display: flex;align-items: stretch;justify-content: center;background-color: white;position: relative;}#sk-container-id-1 div.sk-item::before, #sk-container-id-1 div.sk-parallel-item::before {content: \"\";position: absolute;border-left: 1px solid gray;box-sizing: border-box;top: 0;bottom: 0;left: 50%;z-index: -1;}#sk-container-id-1 div.sk-parallel-item {display: flex;flex-direction: column;z-index: 1;position: relative;background-color: white;}#sk-container-id-1 div.sk-parallel-item:first-child::after {align-self: flex-end;width: 50%;}#sk-container-id-1 div.sk-parallel-item:last-child::after {align-self: flex-start;width: 50%;}#sk-container-id-1 div.sk-parallel-item:only-child::after {width: 0;}#sk-container-id-1 div.sk-dashed-wrapped {border: 1px dashed gray;margin: 0 0.4em 0.5em 0.4em;box-sizing: border-box;padding-bottom: 0.4em;background-color: white;}#sk-container-id-1 div.sk-label label {font-family: monospace;font-weight: bold;display: inline-block;line-height: 1.2em;}#sk-container-id-1 div.sk-label-container {text-align: center;}#sk-container-id-1 div.sk-container {/* jupyter's `normalize.less` sets `[hidden] { display: none; }` but bootstrap.min.css set `[hidden] { display: none !important; }` so we also need the `!important` here to be able to override the default hidden behavior on the sphinx rendered scikit-learn.org. See: https://github.com/scikit-learn/scikit-learn/issues/21755 */display: inline-block !important;position: relative;}#sk-container-id-1 div.sk-text-repr-fallback {display: none;}</style><div id=\"sk-container-id-1\" class=\"sk-top-container\"><div class=\"sk-text-repr-fallback\"><pre>RandomForestClassifier(max_features=&#x27;auto&#x27;, n_jobs=1)</pre><b>In a Jupyter environment, please rerun this cell to show the HTML representation or trust the notebook. <br />On GitHub, the HTML representation is unable to render, please try loading this page with nbviewer.org.</b></div><div class=\"sk-container\" hidden><div class=\"sk-item\"><div class=\"sk-estimator sk-toggleable\"><input class=\"sk-toggleable__control sk-hidden--visually\" id=\"sk-estimator-id-1\" type=\"checkbox\" checked><label for=\"sk-estimator-id-1\" class=\"sk-toggleable__label sk-toggleable__label-arrow\">RandomForestClassifier</label><div class=\"sk-toggleable__content\"><pre>RandomForestClassifier(max_features=&#x27;auto&#x27;, n_jobs=1)</pre></div></div></div></div></div>"
      ],
      "text/plain": [
       "RandomForestClassifier(max_features='auto', n_jobs=1)"
      ]
     },
     "execution_count": 58,
     "metadata": {},
     "output_type": "execute_result"
    }
   ],
   "source": [
    "RandomForestClassifier(bootstrap=True, class_weight=None, criterion='gini',\n",
    "            max_depth=None, max_features='auto', max_leaf_nodes=None,\n",
    "            min_impurity_decrease=0.0,\n",
    "            min_samples_leaf=1, min_samples_split=2,\n",
    "            min_weight_fraction_leaf=0.0, n_estimators=100, n_jobs=1,\n",
    "            oob_score=False, random_state=None, verbose=0,\n",
    "            warm_start=False)"
   ]
  },
  {
   "cell_type": "code",
   "execution_count": 59,
   "id": "b832d216",
   "metadata": {},
   "outputs": [
    {
     "name": "stdout",
     "output_type": "stream",
     "text": [
      "<class 'pandas.core.frame.DataFrame'>\n",
      "Index: 136 entries, Akita to Welsh Terrier\n",
      "Data columns (total 7 columns):\n",
      " #   Column          Non-Null Count  Dtype  \n",
      "---  ------          --------------  -----  \n",
      " 0   height_low_cm   136 non-null    float64\n",
      " 1   heigt_high_cm   136 non-null    float64\n",
      " 2   height_diff     136 non-null    float64\n",
      " 3   weight_low_kg   136 non-null    float64\n",
      " 4   weight_high_kg  136 non-null    float64\n",
      " 5   weight_diff     136 non-null    float64\n",
      " 6   number_of_reps  136 non-null    float64\n",
      "dtypes: float64(7)\n",
      "memory usage: 12.6+ KB\n"
     ]
    }
   ],
   "source": [
    "dog_data_dropped.info()"
   ]
  },
  {
   "cell_type": "code",
   "execution_count": 60,
   "id": "9e667dec",
   "metadata": {},
   "outputs": [
    {
     "data": {
      "text/plain": [
       "height_diff       0.099431\n",
       "weight_diff       0.140235\n",
       "height_low_cm     0.144945\n",
       "heigt_high_cm     0.190779\n",
       "weight_high_kg    0.197376\n",
       "weight_low_kg     0.227234\n",
       "dtype: float64"
      ]
     },
     "execution_count": 60,
     "metadata": {},
     "output_type": "execute_result"
    }
   ],
   "source": [
    "feature_imp = pd.Series(dog_intelligence_model.feature_importances_, index=dog_intelligence_features_3).sort_values(ascending=True)\n",
    "feature_imp"
   ]
  },
  {
   "cell_type": "markdown",
   "id": "2491fb5d",
   "metadata": {},
   "source": [
    "Visualisation of feature importance"
   ]
  },
  {
   "cell_type": "code",
   "execution_count": 61,
   "id": "cba3c73e",
   "metadata": {},
   "outputs": [],
   "source": [
    "%matplotlib inline"
   ]
  },
  {
   "cell_type": "code",
   "execution_count": 62,
   "id": "a9b51e1e",
   "metadata": {},
   "outputs": [
    {
     "data": {
      "text/plain": [
       "<AxesSubplot:>"
      ]
     },
     "execution_count": 62,
     "metadata": {},
     "output_type": "execute_result"
    },
    {
     "data": {
      "image/png": "[encoded data removed]",
      "text/plain": [
       "<Figure size 432x288 with 1 Axes>"
      ]
     },
     "metadata": {
      "needs_background": "light"
     },
     "output_type": "display_data"
    }
   ],
   "source": [
    "sns.barplot(x=feature_imp, y=feature_imp.index)"
   ]
  },
  {
   "cell_type": "markdown",
   "id": "df77889e",
   "metadata": {},
   "source": [
    "Removing the least important feature from model - height_diff"
   ]
  },
  {
   "cell_type": "code",
   "execution_count": 70,
   "id": "239eb305",
   "metadata": {},
   "outputs": [],
   "source": [
    "selected_features = [\"height_low_cm\",\"heigt_high_cm\", \"weight_low_kg\",\"weight_high_kg\", \"weight_diff\"]"
   ]
  },
  {
   "cell_type": "code",
   "execution_count": 71,
   "id": "5f085c7e",
   "metadata": {},
   "outputs": [],
   "source": [
    "X = dog_data_dropped[selected_features]"
   ]
  },
  {
   "cell_type": "code",
   "execution_count": 72,
   "id": "b7e6fe6e",
   "metadata": {},
   "outputs": [],
   "source": [
    "X_train, X_test, y_train, y_test = train_test_split(X, y, test_size=0.3, random_state=5)"
   ]
  },
  {
   "cell_type": "code",
   "execution_count": 73,
   "id": "1dec6a24",
   "metadata": {},
   "outputs": [
    {
     "data": {
      "text/html": [
       "<style>#sk-container-id-3 {color: black;background-color: white;}#sk-container-id-3 pre{padding: 0;}#sk-container-id-3 div.sk-toggleable {background-color: white;}#sk-container-id-3 label.sk-toggleable__label {cursor: pointer;display: block;width: 100%;margin-bottom: 0;padding: 0.3em;box-sizing: border-box;text-align: center;}#sk-container-id-3 label.sk-toggleable__label-arrow:before {content: \"▸\";float: left;margin-right: 0.25em;color: #696969;}#sk-container-id-3 label.sk-toggleable__label-arrow:hover:before {color: black;}#sk-container-id-3 div.sk-estimator:hover label.sk-toggleable__label-arrow:before {color: black;}#sk-container-id-3 div.sk-toggleable__content {max-height: 0;max-width: 0;overflow: hidden;text-align: left;background-color: #f0f8ff;}#sk-container-id-3 div.sk-toggleable__content pre {margin: 0.2em;color: black;border-radius: 0.25em;background-color: #f0f8ff;}#sk-container-id-3 input.sk-toggleable__control:checked~div.sk-toggleable__content {max-height: 200px;max-width: 100%;overflow: auto;}#sk-container-id-3 input.sk-toggleable__control:checked~label.sk-toggleable__label-arrow:before {content: \"▾\";}#sk-container-id-3 div.sk-estimator input.sk-toggleable__control:checked~label.sk-toggleable__label {background-color: #d4ebff;}#sk-container-id-3 div.sk-label input.sk-toggleable__control:checked~label.sk-toggleable__label {background-color: #d4ebff;}#sk-container-id-3 input.sk-hidden--visually {border: 0;clip: rect(1px 1px 1px 1px);clip: rect(1px, 1px, 1px, 1px);height: 1px;margin: -1px;overflow: hidden;padding: 0;position: absolute;width: 1px;}#sk-container-id-3 div.sk-estimator {font-family: monospace;background-color: #f0f8ff;border: 1px dotted black;border-radius: 0.25em;box-sizing: border-box;margin-bottom: 0.5em;}#sk-container-id-3 div.sk-estimator:hover {background-color: #d4ebff;}#sk-container-id-3 div.sk-parallel-item::after {content: \"\";width: 100%;border-bottom: 1px solid gray;flex-grow: 1;}#sk-container-id-3 div.sk-label:hover label.sk-toggleable__label {background-color: #d4ebff;}#sk-container-id-3 div.sk-serial::before {content: \"\";position: absolute;border-left: 1px solid gray;box-sizing: border-box;top: 0;bottom: 0;left: 50%;z-index: 0;}#sk-container-id-3 div.sk-serial {display: flex;flex-direction: column;align-items: center;background-color: white;padding-right: 0.2em;padding-left: 0.2em;position: relative;}#sk-container-id-3 div.sk-item {position: relative;z-index: 1;}#sk-container-id-3 div.sk-parallel {display: flex;align-items: stretch;justify-content: center;background-color: white;position: relative;}#sk-container-id-3 div.sk-item::before, #sk-container-id-3 div.sk-parallel-item::before {content: \"\";position: absolute;border-left: 1px solid gray;box-sizing: border-box;top: 0;bottom: 0;left: 50%;z-index: -1;}#sk-container-id-3 div.sk-parallel-item {display: flex;flex-direction: column;z-index: 1;position: relative;background-color: white;}#sk-container-id-3 div.sk-parallel-item:first-child::after {align-self: flex-end;width: 50%;}#sk-container-id-3 div.sk-parallel-item:last-child::after {align-self: flex-start;width: 50%;}#sk-container-id-3 div.sk-parallel-item:only-child::after {width: 0;}#sk-container-id-3 div.sk-dashed-wrapped {border: 1px dashed gray;margin: 0 0.4em 0.5em 0.4em;box-sizing: border-box;padding-bottom: 0.4em;background-color: white;}#sk-container-id-3 div.sk-label label {font-family: monospace;font-weight: bold;display: inline-block;line-height: 1.2em;}#sk-container-id-3 div.sk-label-container {text-align: center;}#sk-container-id-3 div.sk-container {/* jupyter's `normalize.less` sets `[hidden] { display: none; }` but bootstrap.min.css set `[hidden] { display: none !important; }` so we also need the `!important` here to be able to override the default hidden behavior on the sphinx rendered scikit-learn.org. See: https://github.com/scikit-learn/scikit-learn/issues/21755 */display: inline-block !important;position: relative;}#sk-container-id-3 div.sk-text-repr-fallback {display: none;}</style><div id=\"sk-container-id-3\" class=\"sk-top-container\"><div class=\"sk-text-repr-fallback\"><pre>RandomForestClassifier(n_estimators=115)</pre><b>In a Jupyter environment, please rerun this cell to show the HTML representation or trust the notebook. <br />On GitHub, the HTML representation is unable to render, please try loading this page with nbviewer.org.</b></div><div class=\"sk-container\" hidden><div class=\"sk-item\"><div class=\"sk-estimator sk-toggleable\"><input class=\"sk-toggleable__control sk-hidden--visually\" id=\"sk-estimator-id-3\" type=\"checkbox\" checked><label for=\"sk-estimator-id-3\" class=\"sk-toggleable__label sk-toggleable__label-arrow\">RandomForestClassifier</label><div class=\"sk-toggleable__content\"><pre>RandomForestClassifier(n_estimators=115)</pre></div></div></div></div></div>"
      ],
      "text/plain": [
       "RandomForestClassifier(n_estimators=115)"
      ]
     },
     "execution_count": 73,
     "metadata": {},
     "output_type": "execute_result"
    }
   ],
   "source": [
    "dog_intelligence_model.fit(X_train,y_train)"
   ]
  },
  {
   "cell_type": "code",
   "execution_count": 74,
   "id": "891687df",
   "metadata": {},
   "outputs": [],
   "source": [
    "y_pred = dog_intelligence_model.predict(X_test)"
   ]
  },
  {
   "cell_type": "code",
   "execution_count": 75,
   "id": "c9743a30",
   "metadata": {},
   "outputs": [],
   "source": [
    "accuracy = metrics.accuracy_score(y_test, y_pred)\n",
    "recall = metrics.recall_score(y_test,y_pred, average='macro') \n",
    "precision = metrics.precision_score(y_test,y_pred, average='macro', zero_division=0)"
   ]
  },
  {
   "cell_type": "code",
   "execution_count": 76,
   "id": "98b428ae",
   "metadata": {},
   "outputs": [
    {
     "name": "stdout",
     "output_type": "stream",
     "text": [
      "Accuracy:  56.1 %\n",
      "Recall:  48.24 %\n",
      "Precision:  41.27 %\n"
     ]
    }
   ],
   "source": [
    "print(\"Accuracy: \", round(accuracy*100, 2), \"%\")\n",
    "print(\"Recall: \", round(recall*100, 2), \"%\")\n",
    "print(\"Precision: \",round(precision*100, 2), \"%\")"
   ]
  }
 ],
 "metadata": {
  "kernelspec": {
   "display_name": "Python 3 (ipykernel)",
   "language": "python",
   "name": "python3"
  },
  "language_info": {
   "codemirror_mode": {
    "name": "ipython",
    "version": 3
   },
   "file_extension": ".py",
   "mimetype": "text/x-python",
   "name": "python",
   "nbconvert_exporter": "python",
   "pygments_lexer": "ipython3",
   "version": "3.10.0"
  }
 },
 "nbformat": 4,
 "nbformat_minor": 5
}
